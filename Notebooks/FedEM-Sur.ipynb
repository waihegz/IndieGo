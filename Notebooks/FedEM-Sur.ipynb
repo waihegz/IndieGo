{
 "cells": [
  {
   "cell_type": "code",
   "execution_count": 12,
   "metadata": {},
   "outputs": [],
   "source": [
    "import jax \n",
    "import jax.numpy as jnp\n",
    "from jax import random\n",
    "from typing import NamedTuple\n",
    "from tqdm import tqdm\n",
    "import wandb\n",
    "guassian_pdf = jax.scipy.stats.multivariate_normal.pdf \n",
    "from em_utils import get_prob, generate_data, compute_likelyhood, outer_clients, nearestPD"
   ]
  },
  {
   "cell_type": "markdown",
   "metadata": {},
   "source": [
    "## Utils"
   ]
  },
  {
   "cell_type": "code",
   "execution_count": 13,
   "metadata": {},
   "outputs": [],
   "source": [
    "\n",
    "@jax.jit\n",
    "def client_run(data, means,sigma, SS_1, SS_2, vss_1, vss_2):\n",
    "    def _get_ss2(prob_vec,data):\n",
    "        #probvec: (n), data: (n,d)\n",
    "        prob_vec = jnp.expand_dims(prob_vec, axis=1) # (n,1)\n",
    "        return jnp.mean(prob_vec*data ,axis=0) #(n,d) -> (d)\n",
    "    get_ss2 = jax.vmap(_get_ss2, (0,None),0) #(L,d)\n",
    "    prob = get_prob(data,means,sigma) #(n,L)\n",
    "    sum_prob = jnp.sum(prob, axis=1)  #(n)\n",
    "    sum_prob = jnp.expand_dims(sum_prob,1) + 0.000001#(n,1)\n",
    "    raw_ss_1 = prob/sum_prob #(n,L)\n",
    "    ss_1 = jnp.mean(raw_ss_1, axis=0) #(L)\n",
    "    ss_2 = get_ss2(raw_ss_1.T, data) #(L,d)\n",
    "    delta1 = ss_1-SS_1-vss_1\n",
    "    delta2 = ss_2-SS_2-vss_2\n",
    "    return delta1, delta2\n",
    "\n",
    "\n",
    "parallel_client_run = jax.vmap(client_run, (0,None,None,None,None,0,0),0)"
   ]
  },
  {
   "cell_type": "markdown",
   "metadata": {},
   "source": [
    "## Main"
   ]
  },
  {
   "cell_type": "code",
   "execution_count": 14,
   "metadata": {},
   "outputs": [],
   "source": [
    "def main(hyper, wandb_log=False):\n",
    "    \n",
    "    key = random.PRNGKey(hyper.seed)\n",
    "    # Generate the data\n",
    "    key, t_means,t_sigma,t_mixture_weights, clients_data =  generate_data(key, hyper)\n",
    "    yTy = outer_clients(clients_data,clients_data)\n",
    "    yTy = jnp.mean(yTy,axis=(0,1))\n",
    "    #Initialize the variables\n",
    "    key, means, sigma, mixture_weights, _ =  generate_data(key, hyper)\n",
    "    SS_1 , SS_2 = jnp.zeros(shape=(hyper.L,)), jnp.zeros(shape=(hyper.L, hyper.d))\n",
    "    V1 , V2 =  jnp.zeros(shape=(hyper.L,)), jnp.zeros(shape=(hyper.L, hyper.d))\n",
    "    H1 , H2 =  jnp.zeros(shape=(hyper.L,)), jnp.zeros(shape=(hyper.L, hyper.d))\n",
    "    #Variables list\n",
    "    Vss1 = jnp.zeros(shape=(hyper.n, hyper.L))\n",
    "    Vss2 = jnp.zeros(shape=(hyper.n,hyper.L, hyper.d))\n",
    "    optimal_value = compute_likelyhood(clients_data,t_mixture_weights,t_means,t_sigma)\n",
    "    optimal_gap = []\n",
    "    S1_norm = []\n",
    "    S2_norm = []\n",
    "    likelyhood = []\n",
    "    for i in tqdm(range(hyper.epochs)):\n",
    "        key, *subkey = random.split(key,num=hyper.n+2)\n",
    "        subkey = (_ for _ in subkey)  \n",
    "        indicator = random.bernoulli(next(subkey),hyper.p,shape=(hyper.n,))\n",
    "        participate = jnp.nonzero(indicator)[0]\n",
    "        batch_data = []\n",
    "        for client in list(participate):\n",
    "            batch_data.append(clients_data[client][random.permutation(next(subkey),20)[:hyper.b]])\n",
    "        batch_data = jnp.array(batch_data)                \n",
    "        delta1, delta2 = parallel_client_run(batch_data, means, sigma, SS_1, SS_2, Vss1[participate],Vss2[participate])\n",
    "        \n",
    "        #vectorize Vss updates. \n",
    "        Vss1 = Vss1.at[participate].set(Vss1[participate]+hyper.alpha/hyper.p*delta1)\n",
    "        Vss2 = Vss2.at[participate].set(Vss2[participate]+hyper.alpha/hyper.p*delta2)\n",
    "    \n",
    "        #Central Updates:\n",
    "        d1 = jnp.mean(delta1, axis=0)\n",
    "        d2 = jnp.mean(delta2,axis=0)\n",
    "        H1 = V1 + d1\n",
    "        H2 = V2 + d2\n",
    "        SS_1 = SS_1+hyper.gamma*H1\n",
    "        SS_2 = SS_2+hyper.gamma*H2\n",
    "        V1 = V1+hyper.alpha/hyper.p*d1\n",
    "        V2 = V2+hyper.alpha/hyper.p*d2\n",
    "\n",
    "        #calculate the new variables \n",
    "        mixture_weights = (1/jnp.sum(SS_1))*SS_1\n",
    "        means = jnp.expand_dims((1/SS_1),axis=1)*SS_2\n",
    "        sigma = yTy - jnp.sum(jnp.expand_dims(SS_1, axis=(1,2))*outer(means, means), axis=0)\n",
    "        sigma = nearestPD(sigma)\n",
    "        optimal_gap.append(float(jnp.abs(optimal_value -compute_likelyhood(clients_data,mixture_weights,means,sigma))))\n",
    "        S1_norm.append(float(jnp.linalg.norm(d1)))\n",
    "        S2_norm.append(float(jnp.linalg.norm(d2)))\n",
    "        likelyhood.append(float(compute_likelyhood(clients_data,mixture_weights,means,sigma)))\n",
    "        if(wandb_log):\n",
    "            log_dict={\n",
    "                \"S1 Update\": S1_norm[-1],\n",
    "                \"S2 Update\": S2_norm[-1],\n",
    "                \"Optimality Gap\": optimal_gap[-1] ,\n",
    "                \"Likelyhood\": likelyhood[-1]\n",
    "            }\n",
    "            wandb.log(log_dict)\n",
    "    print(\"optimality gap  \", optimal_gap)\n",
    "    print(\"S1 updated norm \", S1_norm)\n",
    "    print(\"S2 updated norm \", S2_norm)\n",
    "    print(optimal_gap)"
   ]
  },
  {
   "cell_type": "markdown",
   "metadata": {},
   "source": [
    "## Experiment Running"
   ]
  },
  {
   "cell_type": "code",
   "execution_count": 15,
   "metadata": {},
   "outputs": [],
   "source": [
    "\n",
    "class Hyper(NamedTuple):\n",
    "    #Hyperparameters with default settings..\n",
    "    p:float= 0.65 # partipation rate\n",
    "    L:int = 2 # length\n",
    "    b:int = 5 #batch size\n",
    "    N:int = 1_000 #total number of examples\n",
    "    n:int = 10 # number of agents\n",
    "    d:int = 3 # dimension of the experiment\n",
    "    gamma:float = 10e-2 #hyper parameter\n",
    "    alpha:float = 10e-2 # the total things\n",
    "    epochs:int = 50\n",
    "    repeats:int = 1\n",
    "    seed:int = 42"
   ]
  },
  {
   "cell_type": "code",
   "execution_count": 16,
   "metadata": {},
   "outputs": [
    {
     "name": "stderr",
     "output_type": "stream",
     "text": [
      "\u001b[34m\u001b[1mwandb\u001b[0m: \u001b[33mWARNING\u001b[0m Calling wandb.login() after wandb.init() has no effect.\n"
     ]
    },
    {
     "data": {
      "text/html": [
       "Finishing last run (ID:3q92zr0p) before initializing another..."
      ],
      "text/plain": [
       "<IPython.core.display.HTML object>"
      ]
     },
     "metadata": {},
     "output_type": "display_data"
    },
    {
     "data": {
      "text/html": [
       "Waiting for W&B process to finish... <strong style=\"color:green\">(success).</strong>"
      ],
      "text/plain": [
       "<IPython.core.display.HTML object>"
      ]
     },
     "metadata": {},
     "output_type": "display_data"
    },
    {
     "data": {
      "application/vnd.jupyter.widget-view+json": {
       "model_id": "81e227af054c4b778bada37335a4aae6",
       "version_major": 2,
       "version_minor": 0
      },
      "text/plain": [
       "VBox(children=(Label(value='0.001 MB of 0.001 MB uploaded (0.000 MB deduped)\\r'), FloatProgress(value=1.0, max…"
      ]
     },
     "metadata": {},
     "output_type": "display_data"
    },
    {
     "data": {
      "text/html": [
       "<style>\n",
       "    table.wandb td:nth-child(1) { padding: 0 10px; text-align: left ; width: auto;} td:nth-child(2) {text-align: left ; width: 100%}\n",
       "    .wandb-row { display: flex; flex-direction: row; flex-wrap: wrap; justify-content: flex-start; width: 100% }\n",
       "    .wandb-col { display: flex; flex-direction: column; flex-basis: 100%; flex: 1; padding: 10px; }\n",
       "    </style>\n",
       "<div class=\"wandb-row\"><div class=\"wandb-col\"><h3>Run history:</h3><br/><table class=\"wandb\"><tr><td>Likelyhood</td><td>▁▁▂▂▃▃▄▄▅▆▆▆▇▇▇▇▇▇█████▇▇▇▇▆▇▇▇▇▇▇▇▇▇▇▇▆</td></tr><tr><td>Optimality Gap</td><td>█▇▇▆▅▄▃▃▁▁▁▂▂▃▃▃▃▃▄▄▄▄▄▄▃▃▃▂▃▃▃▃▃▃▃▃▃▂▂▂</td></tr><tr><td>S1 Update</td><td>█▆▄▄▃▂▂▁▂▂▃▂▂▂▂▂▂▂▃▂▂▂▂▃▁▁▁▃▂▂▂▃▃▂▂▃▂▂▂▂</td></tr><tr><td>S2 Update</td><td>██▆▄▂▂▂▂▂▂▄▁▃▂▃▂▃▃▂▃▂▂▂▄▂▂▃▃▁▃▁▃▄▂▃▂▃▃▂▂</td></tr></table><br/></div><div class=\"wandb-col\"><h3>Run summary:</h3><br/><table class=\"wandb\"><tr><td>Likelyhood</td><td>0.03493</td></tr><tr><td>Optimality Gap</td><td>0.00251</td></tr><tr><td>S1 Update</td><td>0.13799</td></tr><tr><td>S2 Update</td><td>0.21166</td></tr></table><br/></div></div>"
      ],
      "text/plain": [
       "<IPython.core.display.HTML object>"
      ]
     },
     "metadata": {},
     "output_type": "display_data"
    },
    {
     "data": {
      "text/html": [
       "Synced <strong style=\"color:#cdcd00\">FedEMList</strong>: <a href=\"https://wandb.ai/waihegz/FedSur/runs/3q92zr0p\" target=\"_blank\">https://wandb.ai/waihegz/FedSur/runs/3q92zr0p</a><br/>Synced 6 W&B file(s), 0 media file(s), 0 artifact file(s) and 0 other file(s)"
      ],
      "text/plain": [
       "<IPython.core.display.HTML object>"
      ]
     },
     "metadata": {},
     "output_type": "display_data"
    },
    {
     "data": {
      "text/html": [
       "Find logs at: <code>.\\wandb\\run-20220811_223320-3q92zr0p\\logs</code>"
      ],
      "text/plain": [
       "<IPython.core.display.HTML object>"
      ]
     },
     "metadata": {},
     "output_type": "display_data"
    },
    {
     "data": {
      "text/html": [
       "Successfully finished last run (ID:3q92zr0p). Initializing new run:<br/>"
      ],
      "text/plain": [
       "<IPython.core.display.HTML object>"
      ]
     },
     "metadata": {},
     "output_type": "display_data"
    },
    {
     "data": {
      "text/html": [
       "Tracking run with wandb version 0.13.1"
      ],
      "text/plain": [
       "<IPython.core.display.HTML object>"
      ]
     },
     "metadata": {},
     "output_type": "display_data"
    },
    {
     "data": {
      "text/html": [
       "Run data is saved locally in <code>c:\\Users\\User\\Desktop\\Summer 22\\FedSur\\Notebooks\\wandb\\run-20220811_223846-37ke9zoc</code>"
      ],
      "text/plain": [
       "<IPython.core.display.HTML object>"
      ]
     },
     "metadata": {},
     "output_type": "display_data"
    },
    {
     "data": {
      "text/html": [
       "Syncing run <strong><a href=\"https://wandb.ai/waihegz/FedSur/runs/37ke9zoc\" target=\"_blank\">FedEMList</a></strong> to <a href=\"https://wandb.ai/waihegz/FedSur\" target=\"_blank\">Weights & Biases</a> (<a href=\"https://wandb.me/run\" target=\"_blank\">docs</a>)<br/>"
      ],
      "text/plain": [
       "<IPython.core.display.HTML object>"
      ]
     },
     "metadata": {},
     "output_type": "display_data"
    },
    {
     "name": "stderr",
     "output_type": "stream",
     "text": [
      "100%|██████████| 50/50 [00:02<00:00, 20.18it/s]"
     ]
    },
    {
     "name": "stdout",
     "output_type": "stream",
     "text": [
      "optimality gap   [0.134805366396904, 0.1246090680360794, 0.11190737783908844, 0.10513995587825775, 0.09289431571960449, 0.08098989725112915, 0.06738331913948059, 0.0491432249546051, 0.03885588049888611, 0.02432587742805481, 0.01496782898902893, 0.0063037872314453125, 0.010718464851379395, 0.02273768186569214, 0.02563542127609253, 0.02635371685028076, 0.038302987813949585, 0.043362170457839966, 0.04098597168922424, 0.04971066117286682, 0.05101165175437927, 0.050673067569732666, 0.06840512156486511, 0.06810864806175232, 0.06408259272575378, 0.06968116760253906, 0.059958070516586304, 0.06677475571632385, 0.054405391216278076, 0.04885604977607727, 0.041637420654296875, 0.04495254158973694, 0.04196181893348694, 0.025435209274291992, 0.04614818096160889, 0.04252183437347412, 0.05124926567077637, 0.04907238483428955, 0.04101797938346863, 0.050353437662124634, 0.03743758797645569, 0.03665462136268616, 0.038530588150024414, 0.03779307007789612, 0.034408241510391235, 0.03737759590148926, 0.027217745780944824, 0.026822179555892944, 0.02864977717399597, 0.02507588267326355]\n",
      "S1 updated norm  [0.8559948801994324, 0.6155948042869568, 0.42687082290649414, 0.34901556372642517, 0.36734986305236816, 0.20928308367729187, 0.10446492582559586, 0.13028018176555634, 0.06498130410909653, 0.110197514295578, 0.09619960933923721, 0.09834444522857666, 0.1966196447610855, 0.1322508603334427, 0.13805674016475677, 0.1714908629655838, 0.160068541765213, 0.15196369588375092, 0.1367475539445877, 0.14791034162044525, 0.12421642988920212, 0.16167795658111572, 0.20044443011283875, 0.1087133139371872, 0.10750119388103485, 0.12217685580253601, 0.11857320368289948, 0.14756397902965546, 0.3064752221107483, 0.17852362990379333, 0.005851798225194216, 0.06636793911457062, 0.037466518580913544, 0.2870810031890869, 0.18034210801124573, 0.12395133078098297, 0.13845489919185638, 0.08561895787715912, 0.2614111006259918, 0.10905793309211731, 0.2605258822441101, 0.16639013588428497, 0.10432342439889908, 0.1988043189048767, 0.21497896313667297, 0.09784973412752151, 0.1434490829706192, 0.12185447663068771, 0.10069496929645538, 0.13798557221889496]\n",
      "S2 updated norm  [1.2599287033081055, 1.2429606914520264, 0.9077882766723633, 0.5103594064712524, 0.5175062417984009, 0.274393767118454, 0.31980207562446594, 0.2786770164966583, 0.18464426696300507, 0.19756023585796356, 0.26596835255622864, 0.29611775279045105, 0.5999196767807007, 0.13990336656570435, 0.2715093195438385, 0.39433056116104126, 0.22697411477565765, 0.35385236144065857, 0.27615025639533997, 0.3100939095020294, 0.37334802746772766, 0.378242164850235, 0.26308101415634155, 0.3383181691169739, 0.382379949092865, 0.21330982446670532, 0.29376551508903503, 0.27443721890449524, 0.5332494378089905, 0.29747676849365234, 0.18101902306079865, 0.2129601687192917, 0.3836243450641632, 0.33748799562454224, 0.36431506276130676, 0.06958450376987457, 0.33532026410102844, 0.1180284395813942, 0.37888941168785095, 0.4085924029350281, 0.5304213166236877, 0.2694779336452484, 0.4313722550868988, 0.2695169150829315, 0.24738219380378723, 0.4442625343799591, 0.3303808569908142, 0.2882772386074066, 0.2453795224428177, 0.21165993809700012]\n",
      "[0.134805366396904, 0.1246090680360794, 0.11190737783908844, 0.10513995587825775, 0.09289431571960449, 0.08098989725112915, 0.06738331913948059, 0.0491432249546051, 0.03885588049888611, 0.02432587742805481, 0.01496782898902893, 0.0063037872314453125, 0.010718464851379395, 0.02273768186569214, 0.02563542127609253, 0.02635371685028076, 0.038302987813949585, 0.043362170457839966, 0.04098597168922424, 0.04971066117286682, 0.05101165175437927, 0.050673067569732666, 0.06840512156486511, 0.06810864806175232, 0.06408259272575378, 0.06968116760253906, 0.059958070516586304, 0.06677475571632385, 0.054405391216278076, 0.04885604977607727, 0.041637420654296875, 0.04495254158973694, 0.04196181893348694, 0.025435209274291992, 0.04614818096160889, 0.04252183437347412, 0.05124926567077637, 0.04907238483428955, 0.04101797938346863, 0.050353437662124634, 0.03743758797645569, 0.03665462136268616, 0.038530588150024414, 0.03779307007789612, 0.034408241510391235, 0.03737759590148926, 0.027217745780944824, 0.026822179555892944, 0.02864977717399597, 0.02507588267326355]\n"
     ]
    },
    {
     "name": "stderr",
     "output_type": "stream",
     "text": [
      "\n"
     ]
    }
   ],
   "source": [
    "wandb.login()\n",
    "wandb.init(entity='waihegz',project='FedSur', name='FedEMList')\n",
    "wandb.config.update(Hyper()._asdict())\n",
    "main(Hyper(), wandb_log=True)"
   ]
  },
  {
   "cell_type": "code",
   "execution_count": null,
   "metadata": {},
   "outputs": [],
   "source": []
  }
 ],
 "metadata": {
  "interpreter": {
   "hash": "f5381989b6c5ff09e06861f3fcfeff032963fb6cbbe7a2ac426efbaceba8c983"
  },
  "kernelspec": {
   "display_name": "Python 3.8.12 ('fedjax-cpu')",
   "language": "python",
   "name": "python3"
  },
  "language_info": {
   "codemirror_mode": {
    "name": "ipython",
    "version": 3
   },
   "file_extension": ".py",
   "mimetype": "text/x-python",
   "name": "python",
   "nbconvert_exporter": "python",
   "pygments_lexer": "ipython3",
   "version": "3.8.12"
  },
  "orig_nbformat": 4
 },
 "nbformat": 4,
 "nbformat_minor": 2
}
