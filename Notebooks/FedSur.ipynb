{
 "cells": [
  {
   "cell_type": "code",
   "execution_count": 21,
   "metadata": {},
   "outputs": [],
   "source": [
    "import jax \n",
    "import jax.numpy as jnp\n",
    "from jax import random, scipy\n",
    "from typing import NamedTuple\n",
    "import matplotlib.pyplot as plt\n",
    "guassian_pdf = jax.scipy.stats.multivariate_normal.pdf "
   ]
  },
  {
   "cell_type": "markdown",
   "metadata": {},
   "source": [
    "## Utils"
   ]
  },
  {
   "cell_type": "code",
   "execution_count": 108,
   "metadata": {},
   "outputs": [],
   "source": [
    "class Hyper(NamedTuple):\n",
    "    #Hyperparameters with default settings..\n",
    "    p = 0.75 # partipation rate\n",
    "    L = 2 # length\n",
    "    b = 20 #batch size\n",
    "    N = 10_000 #total number of examples\n",
    "    n = 100 # number of agents \n",
    "    d = 20 # dimension of the experiment \n",
    "    gamma = 10e-2 #hyper parameter\n",
    "    alpha = 10e-2 # the total things\n",
    "    epochs = 500\n",
    "    repeats = 1\n",
    "    seed = 42\n",
    "    \n",
    "def _outer(a,b):\n",
    "    return jnp.outer(a,b)\n",
    "outer = jax.vmap(_outer, (0,0),0)\n",
    "outer_clients = jax.vmap(outer,(0,0),0)\n",
    "\n",
    "\n",
    "def _get_prob(a, mean, sigma):\n",
    "    return guassian_pdf(a,mean,sigma)\n",
    "_get_prob_1 = jax.vmap(_get_prob, (0,None,None),0)\n",
    "get_prob = jax.vmap(_get_prob_1,(None,0,None),1)    \n",
    "\n",
    "\n",
    "@jax.jit\n",
    "def client_run(data, means, SS_1, SS_2, vss_1, vss_2, sigma):\n",
    "    def _get_ss2(prob_vec,data):\n",
    "        prob_vec = jnp.expand_dims(prob_vec, axis=1) # (n,1)\n",
    "        return jnp.mean(prob_vec*data ,axis=1) #(n,d) -> (d)\n",
    "    get_ss2 = jax.vmap(_get_ss2, (0,None),0) #(L,d)\n",
    "    \n",
    "    prob = get_prob(data,means,sigma) #(n,L)\n",
    "    sum_prob = jnp.sum(prob, axis=1)  #(n)\n",
    "    sum_prob = jnp.expand_dims(sum_prob,1) #(n,1)\n",
    "    raw_ss_1 = prob/sum_prob #(n,L)\n",
    "    ss_1 = jnp.mean(raw_ss_1, axis=0) #(L)\n",
    "    ss_2 = get_ss2(raw_ss_1.T, data) #(L,)\n",
    "    delta1 = SS_1-ss_1-vss_1\n",
    "    delta2 = SS_2-ss_2-vss_2\n",
    "    return delta1, delta2\n",
    "\n",
    "def generate_data(key, hyper:Hyper):\n",
    "    #beaware of for loop here\n",
    "    key, *subkey = random.split(key, num=12)\n",
    "    subkey = (i for i in subkey)\n",
    "    means = random.normal(next(subkey), shape=(hyper.L,hyper.d))\n",
    "    sigma = jnp.cov(random.normal(next(subkey), shape=(hyper.d,hyper.d))@random.normal(next(subkey),shape=(hyper.d,100_000)))\n",
    "    source_data = [random.multivariate_normal(next(subkey), means[i], sigma,shape=(hyper.N,)) for i in range(hyper.L)]\n",
    "    logits  = random.dirichlet(next(subkey),1.5* jnp.array([1.0 for _ in range(hyper.L)]))\n",
    "    mixture_weights = jax.nn.softmax(logits)\n",
    "    cuts = random.categorical(next(subkey), logits, shape=(hyper.N,))\n",
    "    raw_data = jnp.vstack([dt[cuts==idx] for idx,dt in enumerate(source_data)])\n",
    "    clients_data = jnp.array(jnp.split(random.permutation(next(subkey),raw_data), hyper.n))\n",
    "    return key,means,sigma,mixture_weights,clients_data \n",
    "\n",
    "\n",
    "def compute_likelyhood(data, means, mixture_weights):\n",
    "    #Need to use the prob_ffunction\n",
    "    def single_likelyhoo(data,means):\n",
    "        scipy.norm\n",
    "    pass"
   ]
  },
  {
   "cell_type": "markdown",
   "metadata": {},
   "source": [
    "## Main"
   ]
  },
  {
   "cell_type": "code",
   "execution_count": null,
   "metadata": {},
   "outputs": [],
   "source": [
    "def main():\n",
    "    hyper = Hyper()\n",
    "    key = random.PRNGKey(hyper.seed)\n",
    "    # Generate the data\n",
    "    key, t_means,t_sigma,t_mixture_weights, clients_data =  generate_data(key, hyper)\n",
    "    yTy = outer_clients(clients_data,clients_data)\n",
    "    yTy = jnp.mean(yTy,axis=(0,1))\n",
    "    #Initialize the variables\n",
    "    key, means, sigma, mixture_weights, _ =  generate_data(key, hyper)\n",
    "    Msg1 = [1/hyper.n * jnp.ones(shape=(hyper.L,)) for i in range(hyper.n)] #(L)\n",
    "    Msg2 = [1/hyper.n * jnp.ones(shape=(hyper.L,hyper.d)) for i in range(hyper.n)] #(L,d)\n",
    "    Vss1 = [1/hyper.n * jnp.ones(shape=(hyper.L,)) for i in range(hyper.n)] #(L)\n",
    "    Vss2 = [1/hyper.n * jnp.ones(shape=(hyper.L,hyper.d)) for i in range(hyper.n)] #(L,d)\n",
    "    for i in range(hyper.epochs):\n",
    "        key, *subkey = random.split(key,num=hyper.n+2)\n",
    "        subkey = (_ for _ in subkey)  \n",
    "        indicator = random.bernoulli(next(subkey),hyper.p,shape=(hyper.n,))\n",
    "        participate = jnp.nonzero(indicator)\n",
    "        delta1, delta2 = [],[]\n",
    "        for client in participate:\n",
    "            batch_data = clients_data[i][random.permutation(next(subkey),20)[:hyper.b]]\n",
    "            # to be fized\n",
    "            d1, d2 = client_run(batch_data, means, Vss1[i],Vss2[i],sigma)\n",
    "            delta1.append(d1)\n",
    "            delta2.append(d2)\n",
    "            \n",
    "            break    \n",
    "        break\n",
    "            \n",
    "            \n",
    "main()"
   ]
  },
  {
   "cell_type": "markdown",
   "metadata": {},
   "source": [
    "**One Epoc**"
   ]
  },
  {
   "cell_type": "code",
   "execution_count": 76,
   "metadata": {},
   "outputs": [
    {
     "name": "stdout",
     "output_type": "stream",
     "text": [
      "0\n",
      "1\n",
      "4\n",
      "5\n",
      "6\n",
      "7\n",
      "8\n",
      "9\n",
      "11\n",
      "12\n",
      "13\n",
      "15\n",
      "16\n",
      "17\n",
      "21\n",
      "22\n",
      "24\n",
      "25\n",
      "27\n",
      "28\n",
      "29\n",
      "32\n",
      "33\n",
      "34\n",
      "35\n",
      "36\n",
      "39\n",
      "40\n",
      "41\n",
      "42\n",
      "45\n",
      "46\n",
      "47\n",
      "48\n",
      "49\n",
      "50\n",
      "51\n",
      "52\n",
      "53\n",
      "54\n",
      "55\n",
      "57\n",
      "58\n",
      "59\n",
      "60\n",
      "61\n",
      "62\n",
      "63\n",
      "64\n",
      "65\n",
      "67\n",
      "69\n",
      "70\n",
      "71\n",
      "73\n",
      "74\n",
      "75\n",
      "76\n",
      "77\n",
      "79\n",
      "80\n",
      "82\n",
      "83\n",
      "84\n",
      "85\n",
      "86\n",
      "88\n",
      "89\n",
      "90\n",
      "91\n",
      "92\n",
      "93\n",
      "95\n",
      "97\n",
      "98\n",
      "99\n"
     ]
    }
   ],
   "source": [
    "key, subkey = random.split(key)\n",
    "#sample clients:\n",
    "participate = random.bernoulli(subkey,hyper.p,shape=(hyper.n,))\n",
    "p_clients = jnp.nonzero(participate)[0]\n",
    "VR = [None for i in range(hyper.n)]\n",
    "SS_1 = [None for i in range(hyper.n)]\n",
    "SS_2 = [None for i in range(hyper.n)]\n",
    "for i in p_clients:\n",
    "    "
   ]
  },
  {
   "cell_type": "code",
   "execution_count": null,
   "metadata": {},
   "outputs": [],
   "source": [
    "print(type(clients_data))\n",
    "print(clients_data.shape)"
   ]
  },
  {
   "cell_type": "code",
   "execution_count": null,
   "metadata": {},
   "outputs": [],
   "source": []
  },
  {
   "cell_type": "code",
   "execution_count": null,
   "metadata": {},
   "outputs": [],
   "source": [
    "cat = random.categorical(next(subkey), mixture)\n"
   ]
  },
  {
   "cell_type": "code",
   "execution_count": null,
   "metadata": {},
   "outputs": [],
   "source": []
  },
  {
   "cell_type": "code",
   "execution_count": null,
   "metadata": {},
   "outputs": [],
   "source": [
    "cuts = random.multinomial"
   ]
  },
  {
   "cell_type": "code",
   "execution_count": null,
   "metadata": {},
   "outputs": [],
   "source": [
    "cuts = np.random.multinomial(N,pvals=mixture, size=None)"
   ]
  },
  {
   "cell_type": "code",
   "execution_count": null,
   "metadata": {},
   "outputs": [],
   "source": []
  },
  {
   "cell_type": "code",
   "execution_count": null,
   "metadata": {},
   "outputs": [],
   "source": []
  },
  {
   "cell_type": "code",
   "execution_count": null,
   "metadata": {},
   "outputs": [],
   "source": [
    "means = random.normal(subkey[0], shape=(L,D))\n",
    "means = np.random.normal(size=(L,d))\n",
    "data = [np.random.normal(size=(N,d),loc=means[i]) for i in range(L)]\n",
    "mixture = np.random.dirichlet(alpha=(2,2),size=None)\n",
    "cuts = np.random.multinomial(N,pvals=mixture, size=None)"
   ]
  },
  {
   "cell_type": "code",
   "execution_count": null,
   "metadata": {},
   "outputs": [],
   "source": []
  },
  {
   "cell_type": "code",
   "execution_count": null,
   "metadata": {},
   "outputs": [],
   "source": [
    "means = np.random.normal(size=(L,d))\n",
    "data = [np.random.normal(size=(N,d),loc=means[i]) for i in range(L)]\n",
    "mixture = np.random.dirichlet(alpha=(2,2),size=None)\n",
    "cuts = np.random.multinomial(N,pvals=mixture, size=None)\n",
    "raw_data = np.vstack([data[idx][:i] for idx, i in enumerate(cuts)])\n",
    "raw_data = raw_data[np.random.permutation(N)]\n",
    "clients = np.array(np.split(raw_data,n))"
   ]
  }
 ],
 "metadata": {
  "interpreter": {
   "hash": "f5381989b6c5ff09e06861f3fcfeff032963fb6cbbe7a2ac426efbaceba8c983"
  },
  "kernelspec": {
   "display_name": "Python 3.8.12 ('fedjax-cpu')",
   "language": "python",
   "name": "python3"
  },
  "language_info": {
   "codemirror_mode": {
    "name": "ipython",
    "version": 3
   },
   "file_extension": ".py",
   "mimetype": "text/x-python",
   "name": "python",
   "nbconvert_exporter": "python",
   "pygments_lexer": "ipython3",
   "version": "3.8.12"
  },
  "orig_nbformat": 4
 },
 "nbformat": 4,
 "nbformat_minor": 2
}
