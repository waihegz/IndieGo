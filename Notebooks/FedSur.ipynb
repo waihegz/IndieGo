{
 "cells": [
  {
   "cell_type": "markdown",
   "metadata": {},
   "source": [
    "**TODO**"
   ]
  },
  {
   "cell_type": "code",
   "execution_count": 1,
   "metadata": {},
   "outputs": [],
   "source": [
    "import jax \n",
    "import jax.numpy as jnp\n",
    "from jax import random, scipy\n",
    "from typing import NamedTuple\n",
    "import matplotlib.pyplot as plt\n",
    "guassian_pdf = jax.scipy.stats.multivariate_normal.pdf "
   ]
  },
  {
   "cell_type": "markdown",
   "metadata": {},
   "source": [
    "## Utils"
   ]
  },
  {
   "cell_type": "code",
   "execution_count": null,
   "metadata": {},
   "outputs": [],
   "source": [
    "def get_psd(sigma):\n",
    "    M, v = jnp.linalg.eig(sigma)\n",
    "    v_inv = jnp.linalg.inv(v) \n",
    "    E = jnp.diag(jnp.clip(M,0,jnp.inf))+0.0001\n",
    "    return (v@E@v_inv).astype(float)\n",
    "    \n",
    "def _outer(a,b):\n",
    "    return jnp.outer(a,b)\n",
    "outer = jax.vmap(_outer, (0,0),0)\n",
    "outer_clients = jax.vmap(outer,(0,0),0)\n",
    "\n",
    "\n",
    "def _get_prob(a, mean, sigma): #should return the shape (L,n)\n",
    "    return guassian_pdf(a,mean,sigma)\n",
    "_get_prob_1 = jax.vmap(_get_prob, (0,None,None),0)\n",
    "get_prob = jax.vmap(_get_prob_1,(None,0,None),1)    \n",
    "\n",
    "\n",
    "def client_run(data, means,sigma, SS_1, SS_2, vss_1, vss_2):\n",
    "    def _get_ss2(prob_vec,data):\n",
    "        #probvec: (n), data: (n,d)\n",
    "        prob_vec = jnp.expand_dims(prob_vec, axis=1) # (n,1)\n",
    "        return jnp.mean(prob_vec*data ,axis=0) #(n,d) -> (d)\n",
    "    get_ss2 = jax.vmap(_get_ss2, (0,None),0) #(L,d)\n",
    "    \n",
    "    prob = get_prob(data,means,sigma) #(n,L)\n",
    "    sum_prob = jnp.sum(prob, axis=1)  #(n)\n",
    "    sum_prob = jnp.expand_dims(sum_prob,1) + 0.000001#(n,1)\n",
    "    raw_ss_1 = prob/sum_prob #(n,L)\n",
    "    ss_1 = jnp.mean(raw_ss_1, axis=0) #(L)\n",
    "    ss_2 = get_ss2(raw_ss_1.T, data) #(L,d)\n",
    "    delta1 = ss_1-SS_1-vss_1\n",
    "    delta2 = ss_2-SS_2-vss_2\n",
    "    return delta1, delta2\n",
    "\n",
    "def generate_data(key, hyper:Hyper):\n",
    "    #beaware of for loop here\n",
    "    key, *subkey = random.split(key, num=12)\n",
    "    subkey = (i for i in subkey)\n",
    "    means = random.normal(next(subkey), shape=(hyper.L,hyper.d))\n",
    "    sigma = jnp.cov(random.normal(next(subkey), shape=(hyper.d,hyper.d))@random.normal(next(subkey),shape=(hyper.d,100_000)))\n",
    "    source_data = [random.multivariate_normal(next(subkey), means[i], sigma,shape=(hyper.N,)) for i in range(hyper.L)]\n",
    "    logits  = random.dirichlet(next(subkey),1.5* jnp.array([1.0 for _ in range(hyper.L)]))\n",
    "    mixture_weights = jax.nn.softmax(logits)\n",
    "    cuts = random.categorical(next(subkey), logits, shape=(hyper.N,))\n",
    "    raw_data = jnp.vstack([dt[cuts==idx] for idx,dt in enumerate(source_data)])\n",
    "    clients_data = jnp.array(jnp.split(random.permutation(next(subkey),raw_data), hyper.n))\n",
    "    return key,means,sigma,mixture_weights,clients_data \n",
    "\n",
    "\n",
    "def compute_likelyhood(data, mixture, means,sigma ):\n",
    "    #Need to use the prob_function\n",
    "    likelyhood = get_prob(data, means, sigma)\n",
    "    likelyhood = jnp.expand_dims(mixture,axis=1) *likelyhood \n",
    "    return jnp.mean(likelyhood)"
   ]
  },
  {
   "cell_type": "markdown",
   "metadata": {},
   "source": [
    "## Main"
   ]
  },
  {
   "cell_type": "code",
   "execution_count": null,
   "metadata": {},
   "outputs": [
    {
     "name": "stdout",
     "output_type": "stream",
     "text": [
      "0.012980999\n",
      "0.011927749\n",
      "0.009679693\n",
      "0.009350866\n",
      "0.0086539285\n",
      "0.0074894493\n",
      "0.007350084\n",
      "0.0065777563\n"
     ]
    },
    {
     "ename": "KeyboardInterrupt",
     "evalue": "",
     "output_type": "error",
     "traceback": [
      "\u001b[1;31m---------------------------------------------------------------------------\u001b[0m",
      "\u001b[1;31mKeyboardInterrupt\u001b[0m                         Traceback (most recent call last)",
      "\u001b[1;32mc:\\Users\\User\\Desktop\\Summer 22\\FedSur\\Notebooks\\FedSur.ipynb Cell 6'\u001b[0m in \u001b[0;36m<module>\u001b[1;34m\u001b[0m\n\u001b[0;32m     <a href='vscode-notebook-cell:/c%3A/Users/User/Desktop/Summer%2022/FedSur/Notebooks/FedSur.ipynb#ch0000014?line=57'>58</a>\u001b[0m         \u001b[39m# print('####After Update####')\u001b[39;00m\n\u001b[0;32m     <a href='vscode-notebook-cell:/c%3A/Users/User/Desktop/Summer%2022/FedSur/Notebooks/FedSur.ipynb#ch0000014?line=58'>59</a>\u001b[0m         \u001b[39m# print(\"d1\",d1)\u001b[39;00m\n\u001b[0;32m     <a href='vscode-notebook-cell:/c%3A/Users/User/Desktop/Summer%2022/FedSur/Notebooks/FedSur.ipynb#ch0000014?line=59'>60</a>\u001b[0m         \u001b[39m# print(\"d2\",d2)\u001b[39;00m\n\u001b[0;32m     <a href='vscode-notebook-cell:/c%3A/Users/User/Desktop/Summer%2022/FedSur/Notebooks/FedSur.ipynb#ch0000014?line=60'>61</a>\u001b[0m         \u001b[39m# print(\"mixture_weights\",mixture_weights)\u001b[39;00m\n\u001b[0;32m     <a href='vscode-notebook-cell:/c%3A/Users/User/Desktop/Summer%2022/FedSur/Notebooks/FedSur.ipynb#ch0000014?line=61'>62</a>\u001b[0m         \u001b[39m# print(\"sigma eignvals\", jnp.linalg.eigvals(sigma))\u001b[39;00m\n\u001b[0;32m     <a href='vscode-notebook-cell:/c%3A/Users/User/Desktop/Summer%2022/FedSur/Notebooks/FedSur.ipynb#ch0000014?line=62'>63</a>\u001b[0m         \u001b[39m# print(\"means\", means)\u001b[39;00m\n\u001b[0;32m     <a href='vscode-notebook-cell:/c%3A/Users/User/Desktop/Summer%2022/FedSur/Notebooks/FedSur.ipynb#ch0000014?line=63'>64</a>\u001b[0m         \u001b[39mprint\u001b[39m(compute_likelyhood(clients_data,mixture_weights,means,sigma))\n\u001b[1;32m---> <a href='vscode-notebook-cell:/c%3A/Users/User/Desktop/Summer%2022/FedSur/Notebooks/FedSur.ipynb#ch0000014?line=65'>66</a>\u001b[0m main()\n",
      "\u001b[1;32mc:\\Users\\User\\Desktop\\Summer 22\\FedSur\\Notebooks\\FedSur.ipynb Cell 6'\u001b[0m in \u001b[0;36mmain\u001b[1;34m()\u001b[0m\n\u001b[0;32m     <a href='vscode-notebook-cell:/c%3A/Users/User/Desktop/Summer%2022/FedSur/Notebooks/FedSur.ipynb#ch0000014?line=22'>23</a>\u001b[0m \u001b[39mfor\u001b[39;00m client \u001b[39min\u001b[39;00m \u001b[39mlist\u001b[39m(participate):\n\u001b[0;32m     <a href='vscode-notebook-cell:/c%3A/Users/User/Desktop/Summer%2022/FedSur/Notebooks/FedSur.ipynb#ch0000014?line=23'>24</a>\u001b[0m     batch_data \u001b[39m=\u001b[39m clients_data[client][random\u001b[39m.\u001b[39mpermutation(\u001b[39mnext\u001b[39m(subkey),\u001b[39m20\u001b[39m)[:hyper\u001b[39m.\u001b[39mb]]        \n\u001b[1;32m---> <a href='vscode-notebook-cell:/c%3A/Users/User/Desktop/Summer%2022/FedSur/Notebooks/FedSur.ipynb#ch0000014?line=24'>25</a>\u001b[0m     d1, d2 \u001b[39m=\u001b[39m client_run(batch_data, means, sigma, SS_1, SS_2, Vss1[client],Vss2[client])\n\u001b[0;32m     <a href='vscode-notebook-cell:/c%3A/Users/User/Desktop/Summer%2022/FedSur/Notebooks/FedSur.ipynb#ch0000014?line=25'>26</a>\u001b[0m     delta1\u001b[39m.\u001b[39mappend(d1)\n\u001b[0;32m     <a href='vscode-notebook-cell:/c%3A/Users/User/Desktop/Summer%2022/FedSur/Notebooks/FedSur.ipynb#ch0000014?line=26'>27</a>\u001b[0m     delta2\u001b[39m.\u001b[39mappend(d2)\n",
      "\u001b[1;32mc:\\Users\\User\\Desktop\\Summer 22\\FedSur\\Notebooks\\FedSur.ipynb Cell 4'\u001b[0m in \u001b[0;36mclient_run\u001b[1;34m(data, means, sigma, SS_1, SS_2, vss_1, vss_2)\u001b[0m\n\u001b[0;32m     <a href='vscode-notebook-cell:/c%3A/Users/User/Desktop/Summer%2022/FedSur/Notebooks/FedSur.ipynb#ch0000002?line=43'>44</a>\u001b[0m raw_ss_1 \u001b[39m=\u001b[39m prob\u001b[39m/\u001b[39msum_prob \u001b[39m#(n,L)\u001b[39;00m\n\u001b[0;32m     <a href='vscode-notebook-cell:/c%3A/Users/User/Desktop/Summer%2022/FedSur/Notebooks/FedSur.ipynb#ch0000002?line=44'>45</a>\u001b[0m ss_1 \u001b[39m=\u001b[39m jnp\u001b[39m.\u001b[39mmean(raw_ss_1, axis\u001b[39m=\u001b[39m\u001b[39m0\u001b[39m) \u001b[39m#(L)\u001b[39;00m\n\u001b[1;32m---> <a href='vscode-notebook-cell:/c%3A/Users/User/Desktop/Summer%2022/FedSur/Notebooks/FedSur.ipynb#ch0000002?line=45'>46</a>\u001b[0m ss_2 \u001b[39m=\u001b[39m get_ss2(raw_ss_1\u001b[39m.\u001b[39;49mT, data) \u001b[39m#(L,d)\u001b[39;00m\n\u001b[0;32m     <a href='vscode-notebook-cell:/c%3A/Users/User/Desktop/Summer%2022/FedSur/Notebooks/FedSur.ipynb#ch0000002?line=46'>47</a>\u001b[0m delta1 \u001b[39m=\u001b[39m ss_1\u001b[39m-\u001b[39mSS_1\u001b[39m-\u001b[39mvss_1\n\u001b[0;32m     <a href='vscode-notebook-cell:/c%3A/Users/User/Desktop/Summer%2022/FedSur/Notebooks/FedSur.ipynb#ch0000002?line=47'>48</a>\u001b[0m delta2 \u001b[39m=\u001b[39m ss_2\u001b[39m-\u001b[39mSS_2\u001b[39m-\u001b[39mvss_2\n",
      "    \u001b[1;31m[... skipping hidden 1 frame]\u001b[0m\n",
      "File \u001b[1;32m~\\.conda\\envs\\fedjax-cpu\\lib\\site-packages\\jax\\_src\\api.py:1520\u001b[0m, in \u001b[0;36mvmap.<locals>.batched_fun\u001b[1;34m(*args, **kwargs)\u001b[0m\n\u001b[0;32m   <a href='file:///c%3A/Users/User/.conda/envs/fedjax-cpu/lib/site-packages/jax/_src/api.py?line=1515'>1516</a>\u001b[0m in_axes_flat \u001b[39m=\u001b[39m flatten_axes(\u001b[39m\"\u001b[39m\u001b[39mvmap in_axes\u001b[39m\u001b[39m\"\u001b[39m, in_tree, (in_axes, \u001b[39m0\u001b[39m), kws\u001b[39m=\u001b[39m\u001b[39mTrue\u001b[39;00m)\n\u001b[0;32m   <a href='file:///c%3A/Users/User/.conda/envs/fedjax-cpu/lib/site-packages/jax/_src/api.py?line=1516'>1517</a>\u001b[0m axis_size_ \u001b[39m=\u001b[39m (axis_size \u001b[39mif\u001b[39;00m axis_size \u001b[39mis\u001b[39;00m \u001b[39mnot\u001b[39;00m \u001b[39mNone\u001b[39;00m \u001b[39melse\u001b[39;00m\n\u001b[0;32m   <a href='file:///c%3A/Users/User/.conda/envs/fedjax-cpu/lib/site-packages/jax/_src/api.py?line=1517'>1518</a>\u001b[0m               _mapped_axis_size(in_tree, args_flat, in_axes_flat, \u001b[39m\"\u001b[39m\u001b[39mvmap\u001b[39m\u001b[39m\"\u001b[39m,\n\u001b[0;32m   <a href='file:///c%3A/Users/User/.conda/envs/fedjax-cpu/lib/site-packages/jax/_src/api.py?line=1518'>1519</a>\u001b[0m                                 kws\u001b[39m=\u001b[39m\u001b[39mTrue\u001b[39;00m))\n\u001b[1;32m-> <a href='file:///c%3A/Users/User/.conda/envs/fedjax-cpu/lib/site-packages/jax/_src/api.py?line=1519'>1520</a>\u001b[0m out_flat \u001b[39m=\u001b[39m batching\u001b[39m.\u001b[39;49mbatch(\n\u001b[0;32m   <a href='file:///c%3A/Users/User/.conda/envs/fedjax-cpu/lib/site-packages/jax/_src/api.py?line=1520'>1521</a>\u001b[0m     flat_fun, axis_name, axis_size_, in_axes_flat,\n\u001b[0;32m   <a href='file:///c%3A/Users/User/.conda/envs/fedjax-cpu/lib/site-packages/jax/_src/api.py?line=1521'>1522</a>\u001b[0m     \u001b[39mlambda\u001b[39;49;00m: flatten_axes(\u001b[39m\"\u001b[39;49m\u001b[39mvmap out_axes\u001b[39;49m\u001b[39m\"\u001b[39;49m, out_tree(), out_axes)\n\u001b[0;32m   <a href='file:///c%3A/Users/User/.conda/envs/fedjax-cpu/lib/site-packages/jax/_src/api.py?line=1522'>1523</a>\u001b[0m )\u001b[39m.\u001b[39;49mcall_wrapped(\u001b[39m*\u001b[39;49margs_flat)\n\u001b[0;32m   <a href='file:///c%3A/Users/User/.conda/envs/fedjax-cpu/lib/site-packages/jax/_src/api.py?line=1523'>1524</a>\u001b[0m \u001b[39mreturn\u001b[39;00m tree_unflatten(out_tree(), out_flat)\n",
      "File \u001b[1;32m~\\.conda\\envs\\fedjax-cpu\\lib\\site-packages\\jax\\linear_util.py:166\u001b[0m, in \u001b[0;36mWrappedFun.call_wrapped\u001b[1;34m(self, *args, **kwargs)\u001b[0m\n\u001b[0;32m    <a href='file:///c%3A/Users/User/.conda/envs/fedjax-cpu/lib/site-packages/jax/linear_util.py?line=162'>163</a>\u001b[0m gen \u001b[39m=\u001b[39m gen_static_args \u001b[39m=\u001b[39m out_store \u001b[39m=\u001b[39m \u001b[39mNone\u001b[39;00m\n\u001b[0;32m    <a href='file:///c%3A/Users/User/.conda/envs/fedjax-cpu/lib/site-packages/jax/linear_util.py?line=164'>165</a>\u001b[0m \u001b[39mtry\u001b[39;00m:\n\u001b[1;32m--> <a href='file:///c%3A/Users/User/.conda/envs/fedjax-cpu/lib/site-packages/jax/linear_util.py?line=165'>166</a>\u001b[0m   ans \u001b[39m=\u001b[39m \u001b[39mself\u001b[39;49m\u001b[39m.\u001b[39;49mf(\u001b[39m*\u001b[39;49margs, \u001b[39m*\u001b[39;49m\u001b[39m*\u001b[39;49m\u001b[39mdict\u001b[39;49m(\u001b[39mself\u001b[39;49m\u001b[39m.\u001b[39;49mparams, \u001b[39m*\u001b[39;49m\u001b[39m*\u001b[39;49mkwargs))\n\u001b[0;32m    <a href='file:///c%3A/Users/User/.conda/envs/fedjax-cpu/lib/site-packages/jax/linear_util.py?line=166'>167</a>\u001b[0m \u001b[39mexcept\u001b[39;00m:\n\u001b[0;32m    <a href='file:///c%3A/Users/User/.conda/envs/fedjax-cpu/lib/site-packages/jax/linear_util.py?line=167'>168</a>\u001b[0m   \u001b[39m# Some transformations yield from inside context managers, so we have to\u001b[39;00m\n\u001b[0;32m    <a href='file:///c%3A/Users/User/.conda/envs/fedjax-cpu/lib/site-packages/jax/linear_util.py?line=168'>169</a>\u001b[0m   \u001b[39m# interrupt them before reraising the exception. Otherwise they will only\u001b[39;00m\n\u001b[0;32m    <a href='file:///c%3A/Users/User/.conda/envs/fedjax-cpu/lib/site-packages/jax/linear_util.py?line=169'>170</a>\u001b[0m   \u001b[39m# get garbage-collected at some later time, running their cleanup tasks only\u001b[39;00m\n\u001b[0;32m    <a href='file:///c%3A/Users/User/.conda/envs/fedjax-cpu/lib/site-packages/jax/linear_util.py?line=170'>171</a>\u001b[0m   \u001b[39m# after this exception is handled, which can corrupt the global state.\u001b[39;00m\n\u001b[0;32m    <a href='file:///c%3A/Users/User/.conda/envs/fedjax-cpu/lib/site-packages/jax/linear_util.py?line=171'>172</a>\u001b[0m   \u001b[39mwhile\u001b[39;00m stack:\n",
      "\u001b[1;32mc:\\Users\\User\\Desktop\\Summer 22\\FedSur\\Notebooks\\FedSur.ipynb Cell 4'\u001b[0m in \u001b[0;36mclient_run.<locals>._get_ss2\u001b[1;34m(prob_vec, data)\u001b[0m\n\u001b[0;32m     <a href='vscode-notebook-cell:/c%3A/Users/User/Desktop/Summer%2022/FedSur/Notebooks/FedSur.ipynb#ch0000002?line=34'>35</a>\u001b[0m \u001b[39mdef\u001b[39;00m \u001b[39m_get_ss2\u001b[39m(prob_vec,data):\n\u001b[0;32m     <a href='vscode-notebook-cell:/c%3A/Users/User/Desktop/Summer%2022/FedSur/Notebooks/FedSur.ipynb#ch0000002?line=35'>36</a>\u001b[0m     \u001b[39m#probvec: (n), data: (n,d)\u001b[39;00m\n\u001b[0;32m     <a href='vscode-notebook-cell:/c%3A/Users/User/Desktop/Summer%2022/FedSur/Notebooks/FedSur.ipynb#ch0000002?line=36'>37</a>\u001b[0m     prob_vec \u001b[39m=\u001b[39m jnp\u001b[39m.\u001b[39mexpand_dims(prob_vec, axis\u001b[39m=\u001b[39m\u001b[39m1\u001b[39m) \u001b[39m# (n,1)\u001b[39;00m\n\u001b[1;32m---> <a href='vscode-notebook-cell:/c%3A/Users/User/Desktop/Summer%2022/FedSur/Notebooks/FedSur.ipynb#ch0000002?line=37'>38</a>\u001b[0m     \u001b[39mreturn\u001b[39;00m jnp\u001b[39m.\u001b[39mmean(prob_vec\u001b[39m*\u001b[39;49mdata ,axis\u001b[39m=\u001b[39m\u001b[39m0\u001b[39m)\n",
      "File \u001b[1;32m~\\.conda\\envs\\fedjax-cpu\\lib\\site-packages\\jax\\core.py:526\u001b[0m, in \u001b[0;36mTracer.__mul__\u001b[1;34m(self, other)\u001b[0m\n\u001b[1;32m--> <a href='file:///c%3A/Users/User/.conda/envs/fedjax-cpu/lib/site-packages/jax/core.py?line=525'>526</a>\u001b[0m \u001b[39mdef\u001b[39;00m \u001b[39m__mul__\u001b[39m(\u001b[39mself\u001b[39m, other): \u001b[39mreturn\u001b[39;00m \u001b[39mself\u001b[39;49m\u001b[39m.\u001b[39;49maval\u001b[39m.\u001b[39;49m_mul(\u001b[39mself\u001b[39;49m, other)\n",
      "File \u001b[1;32m~\\.conda\\envs\\fedjax-cpu\\lib\\site-packages\\jax\\_src\\numpy\\lax_numpy.py:6668\u001b[0m, in \u001b[0;36m_defer_to_unrecognized_arg.<locals>.deferring_binary_op\u001b[1;34m(self, other)\u001b[0m\n\u001b[0;32m   <a href='file:///c%3A/Users/User/.conda/envs/fedjax-cpu/lib/site-packages/jax/_src/numpy/lax_numpy.py?line=6665'>6666</a>\u001b[0m \u001b[39mif\u001b[39;00m \u001b[39mnot\u001b[39;00m \u001b[39misinstance\u001b[39m(other, _accepted_binop_types):\n\u001b[0;32m   <a href='file:///c%3A/Users/User/.conda/envs/fedjax-cpu/lib/site-packages/jax/_src/numpy/lax_numpy.py?line=6666'>6667</a>\u001b[0m   \u001b[39mreturn\u001b[39;00m \u001b[39mNotImplemented\u001b[39m\n\u001b[1;32m-> <a href='file:///c%3A/Users/User/.conda/envs/fedjax-cpu/lib/site-packages/jax/_src/numpy/lax_numpy.py?line=6667'>6668</a>\u001b[0m \u001b[39mreturn\u001b[39;00m binary_op(\u001b[39mself\u001b[39;49m, other)\n",
      "    \u001b[1;31m[... skipping hidden 1 frame]\u001b[0m\n",
      "File \u001b[1;32m~\\.conda\\envs\\fedjax-cpu\\lib\\site-packages\\jax\\_src\\api.py:424\u001b[0m, in \u001b[0;36m_cpp_jit.<locals>.cache_miss\u001b[1;34m(*args, **kwargs)\u001b[0m\n\u001b[0;32m    <a href='file:///c%3A/Users/User/.conda/envs/fedjax-cpu/lib/site-packages/jax/_src/api.py?line=421'>422</a>\u001b[0m   _check_arg(arg)\n\u001b[0;32m    <a href='file:///c%3A/Users/User/.conda/envs/fedjax-cpu/lib/site-packages/jax/_src/api.py?line=422'>423</a>\u001b[0m flat_fun, out_tree \u001b[39m=\u001b[39m flatten_fun(closed_fun, in_tree)\n\u001b[1;32m--> <a href='file:///c%3A/Users/User/.conda/envs/fedjax-cpu/lib/site-packages/jax/_src/api.py?line=423'>424</a>\u001b[0m out_flat \u001b[39m=\u001b[39m xla\u001b[39m.\u001b[39;49mxla_call(\n\u001b[0;32m    <a href='file:///c%3A/Users/User/.conda/envs/fedjax-cpu/lib/site-packages/jax/_src/api.py?line=424'>425</a>\u001b[0m     flat_fun, \u001b[39m*\u001b[39;49margs_flat,\n\u001b[0;32m    <a href='file:///c%3A/Users/User/.conda/envs/fedjax-cpu/lib/site-packages/jax/_src/api.py?line=425'>426</a>\u001b[0m     device\u001b[39m=\u001b[39;49mdevice, backend\u001b[39m=\u001b[39;49mbackend, name\u001b[39m=\u001b[39;49mflat_fun\u001b[39m.\u001b[39;49m\u001b[39m__name__\u001b[39;49m,\n\u001b[0;32m    <a href='file:///c%3A/Users/User/.conda/envs/fedjax-cpu/lib/site-packages/jax/_src/api.py?line=426'>427</a>\u001b[0m     donated_invars\u001b[39m=\u001b[39;49mdonated_invars, inline\u001b[39m=\u001b[39;49minline)\n\u001b[0;32m    <a href='file:///c%3A/Users/User/.conda/envs/fedjax-cpu/lib/site-packages/jax/_src/api.py?line=427'>428</a>\u001b[0m out_pytree_def \u001b[39m=\u001b[39m out_tree()\n\u001b[0;32m    <a href='file:///c%3A/Users/User/.conda/envs/fedjax-cpu/lib/site-packages/jax/_src/api.py?line=428'>429</a>\u001b[0m out \u001b[39m=\u001b[39m tree_unflatten(out_pytree_def, out_flat)\n",
      "File \u001b[1;32m~\\.conda\\envs\\fedjax-cpu\\lib\\site-packages\\jax\\core.py:1661\u001b[0m, in \u001b[0;36mCallPrimitive.bind\u001b[1;34m(self, fun, *args, **params)\u001b[0m\n\u001b[0;32m   <a href='file:///c%3A/Users/User/.conda/envs/fedjax-cpu/lib/site-packages/jax/core.py?line=1659'>1660</a>\u001b[0m \u001b[39mdef\u001b[39;00m \u001b[39mbind\u001b[39m(\u001b[39mself\u001b[39m, fun, \u001b[39m*\u001b[39margs, \u001b[39m*\u001b[39m\u001b[39m*\u001b[39mparams):\n\u001b[1;32m-> <a href='file:///c%3A/Users/User/.conda/envs/fedjax-cpu/lib/site-packages/jax/core.py?line=1660'>1661</a>\u001b[0m   \u001b[39mreturn\u001b[39;00m call_bind(\u001b[39mself\u001b[39;49m, fun, \u001b[39m*\u001b[39;49margs, \u001b[39m*\u001b[39;49m\u001b[39m*\u001b[39;49mparams)\n",
      "File \u001b[1;32m~\\.conda\\envs\\fedjax-cpu\\lib\\site-packages\\jax\\core.py:1652\u001b[0m, in \u001b[0;36mcall_bind\u001b[1;34m(primitive, fun, *args, **params)\u001b[0m\n\u001b[0;32m   <a href='file:///c%3A/Users/User/.conda/envs/fedjax-cpu/lib/site-packages/jax/core.py?line=1647'>1648</a>\u001b[0m fun, env_trace_todo \u001b[39m=\u001b[39m process_env_traces(\n\u001b[0;32m   <a href='file:///c%3A/Users/User/.conda/envs/fedjax-cpu/lib/site-packages/jax/core.py?line=1648'>1649</a>\u001b[0m     fun, primitive, top_trace \u001b[39mand\u001b[39;00m top_trace\u001b[39m.\u001b[39mlevel,\n\u001b[0;32m   <a href='file:///c%3A/Users/User/.conda/envs/fedjax-cpu/lib/site-packages/jax/core.py?line=1649'>1650</a>\u001b[0m     params_tuple, out_axes_transforms)\n\u001b[0;32m   <a href='file:///c%3A/Users/User/.conda/envs/fedjax-cpu/lib/site-packages/jax/core.py?line=1650'>1651</a>\u001b[0m tracers \u001b[39m=\u001b[39m \u001b[39mmap\u001b[39m(top_trace\u001b[39m.\u001b[39mfull_raise, args)\n\u001b[1;32m-> <a href='file:///c%3A/Users/User/.conda/envs/fedjax-cpu/lib/site-packages/jax/core.py?line=1651'>1652</a>\u001b[0m outs \u001b[39m=\u001b[39m primitive\u001b[39m.\u001b[39;49mprocess(top_trace, fun, tracers, params)\n\u001b[0;32m   <a href='file:///c%3A/Users/User/.conda/envs/fedjax-cpu/lib/site-packages/jax/core.py?line=1652'>1653</a>\u001b[0m \u001b[39mreturn\u001b[39;00m \u001b[39mmap\u001b[39m(full_lower, apply_todos(env_trace_todo(), outs))\n",
      "File \u001b[1;32m~\\.conda\\envs\\fedjax-cpu\\lib\\site-packages\\jax\\core.py:1664\u001b[0m, in \u001b[0;36mCallPrimitive.process\u001b[1;34m(self, trace, fun, tracers, params)\u001b[0m\n\u001b[0;32m   <a href='file:///c%3A/Users/User/.conda/envs/fedjax-cpu/lib/site-packages/jax/core.py?line=1662'>1663</a>\u001b[0m \u001b[39mdef\u001b[39;00m \u001b[39mprocess\u001b[39m(\u001b[39mself\u001b[39m, trace, fun, tracers, params):\n\u001b[1;32m-> <a href='file:///c%3A/Users/User/.conda/envs/fedjax-cpu/lib/site-packages/jax/core.py?line=1663'>1664</a>\u001b[0m   \u001b[39mreturn\u001b[39;00m trace\u001b[39m.\u001b[39;49mprocess_call(\u001b[39mself\u001b[39;49m, fun, tracers, params)\n",
      "File \u001b[1;32m~\\.conda\\envs\\fedjax-cpu\\lib\\site-packages\\jax\\interpreters\\batching.py:199\u001b[0m, in \u001b[0;36mBatchTrace.process_call\u001b[1;34m(self, call_primitive, f, tracers, params)\u001b[0m\n\u001b[0;32m    <a href='file:///c%3A/Users/User/.conda/envs/fedjax-cpu/lib/site-packages/jax/interpreters/batching.py?line=196'>197</a>\u001b[0m \u001b[39melse\u001b[39;00m:\n\u001b[0;32m    <a href='file:///c%3A/Users/User/.conda/envs/fedjax-cpu/lib/site-packages/jax/interpreters/batching.py?line=197'>198</a>\u001b[0m   f, dims_out \u001b[39m=\u001b[39m batch_subtrace(f, \u001b[39mself\u001b[39m\u001b[39m.\u001b[39mmain, dims)\n\u001b[1;32m--> <a href='file:///c%3A/Users/User/.conda/envs/fedjax-cpu/lib/site-packages/jax/interpreters/batching.py?line=198'>199</a>\u001b[0m   vals_out \u001b[39m=\u001b[39m call_primitive\u001b[39m.\u001b[39;49mbind(f, \u001b[39m*\u001b[39;49mvals, \u001b[39m*\u001b[39;49m\u001b[39m*\u001b[39;49mparams)\n\u001b[0;32m    <a href='file:///c%3A/Users/User/.conda/envs/fedjax-cpu/lib/site-packages/jax/interpreters/batching.py?line=199'>200</a>\u001b[0m   \u001b[39mreturn\u001b[39;00m [BatchTracer(\u001b[39mself\u001b[39m, v, d) \u001b[39mfor\u001b[39;00m v, d \u001b[39min\u001b[39;00m \u001b[39mzip\u001b[39m(vals_out, dims_out())]\n",
      "File \u001b[1;32m~\\.conda\\envs\\fedjax-cpu\\lib\\site-packages\\jax\\core.py:1661\u001b[0m, in \u001b[0;36mCallPrimitive.bind\u001b[1;34m(self, fun, *args, **params)\u001b[0m\n\u001b[0;32m   <a href='file:///c%3A/Users/User/.conda/envs/fedjax-cpu/lib/site-packages/jax/core.py?line=1659'>1660</a>\u001b[0m \u001b[39mdef\u001b[39;00m \u001b[39mbind\u001b[39m(\u001b[39mself\u001b[39m, fun, \u001b[39m*\u001b[39margs, \u001b[39m*\u001b[39m\u001b[39m*\u001b[39mparams):\n\u001b[1;32m-> <a href='file:///c%3A/Users/User/.conda/envs/fedjax-cpu/lib/site-packages/jax/core.py?line=1660'>1661</a>\u001b[0m   \u001b[39mreturn\u001b[39;00m call_bind(\u001b[39mself\u001b[39;49m, fun, \u001b[39m*\u001b[39;49margs, \u001b[39m*\u001b[39;49m\u001b[39m*\u001b[39;49mparams)\n",
      "File \u001b[1;32m~\\.conda\\envs\\fedjax-cpu\\lib\\site-packages\\jax\\core.py:1652\u001b[0m, in \u001b[0;36mcall_bind\u001b[1;34m(primitive, fun, *args, **params)\u001b[0m\n\u001b[0;32m   <a href='file:///c%3A/Users/User/.conda/envs/fedjax-cpu/lib/site-packages/jax/core.py?line=1647'>1648</a>\u001b[0m fun, env_trace_todo \u001b[39m=\u001b[39m process_env_traces(\n\u001b[0;32m   <a href='file:///c%3A/Users/User/.conda/envs/fedjax-cpu/lib/site-packages/jax/core.py?line=1648'>1649</a>\u001b[0m     fun, primitive, top_trace \u001b[39mand\u001b[39;00m top_trace\u001b[39m.\u001b[39mlevel,\n\u001b[0;32m   <a href='file:///c%3A/Users/User/.conda/envs/fedjax-cpu/lib/site-packages/jax/core.py?line=1649'>1650</a>\u001b[0m     params_tuple, out_axes_transforms)\n\u001b[0;32m   <a href='file:///c%3A/Users/User/.conda/envs/fedjax-cpu/lib/site-packages/jax/core.py?line=1650'>1651</a>\u001b[0m tracers \u001b[39m=\u001b[39m \u001b[39mmap\u001b[39m(top_trace\u001b[39m.\u001b[39mfull_raise, args)\n\u001b[1;32m-> <a href='file:///c%3A/Users/User/.conda/envs/fedjax-cpu/lib/site-packages/jax/core.py?line=1651'>1652</a>\u001b[0m outs \u001b[39m=\u001b[39m primitive\u001b[39m.\u001b[39;49mprocess(top_trace, fun, tracers, params)\n\u001b[0;32m   <a href='file:///c%3A/Users/User/.conda/envs/fedjax-cpu/lib/site-packages/jax/core.py?line=1652'>1653</a>\u001b[0m \u001b[39mreturn\u001b[39;00m \u001b[39mmap\u001b[39m(full_lower, apply_todos(env_trace_todo(), outs))\n",
      "File \u001b[1;32m~\\.conda\\envs\\fedjax-cpu\\lib\\site-packages\\jax\\core.py:1664\u001b[0m, in \u001b[0;36mCallPrimitive.process\u001b[1;34m(self, trace, fun, tracers, params)\u001b[0m\n\u001b[0;32m   <a href='file:///c%3A/Users/User/.conda/envs/fedjax-cpu/lib/site-packages/jax/core.py?line=1662'>1663</a>\u001b[0m \u001b[39mdef\u001b[39;00m \u001b[39mprocess\u001b[39m(\u001b[39mself\u001b[39m, trace, fun, tracers, params):\n\u001b[1;32m-> <a href='file:///c%3A/Users/User/.conda/envs/fedjax-cpu/lib/site-packages/jax/core.py?line=1663'>1664</a>\u001b[0m   \u001b[39mreturn\u001b[39;00m trace\u001b[39m.\u001b[39;49mprocess_call(\u001b[39mself\u001b[39;49m, fun, tracers, params)\n",
      "File \u001b[1;32m~\\.conda\\envs\\fedjax-cpu\\lib\\site-packages\\jax\\core.py:633\u001b[0m, in \u001b[0;36mEvalTrace.process_call\u001b[1;34m(self, primitive, f, tracers, params)\u001b[0m\n\u001b[0;32m    <a href='file:///c%3A/Users/User/.conda/envs/fedjax-cpu/lib/site-packages/jax/core.py?line=631'>632</a>\u001b[0m \u001b[39mdef\u001b[39;00m \u001b[39mprocess_call\u001b[39m(\u001b[39mself\u001b[39m, primitive, f, tracers, params):\n\u001b[1;32m--> <a href='file:///c%3A/Users/User/.conda/envs/fedjax-cpu/lib/site-packages/jax/core.py?line=632'>633</a>\u001b[0m   \u001b[39mreturn\u001b[39;00m primitive\u001b[39m.\u001b[39;49mimpl(f, \u001b[39m*\u001b[39;49mtracers, \u001b[39m*\u001b[39;49m\u001b[39m*\u001b[39;49mparams)\n",
      "File \u001b[1;32m~\\.conda\\envs\\fedjax-cpu\\lib\\site-packages\\jax\\_src\\dispatch.py:131\u001b[0m, in \u001b[0;36m_xla_call_impl\u001b[1;34m(***failed resolving arguments***)\u001b[0m\n\u001b[0;32m    <a href='file:///c%3A/Users/User/.conda/envs/fedjax-cpu/lib/site-packages/jax/_src/dispatch.py?line=127'>128</a>\u001b[0m compiled_fun \u001b[39m=\u001b[39m _xla_callable(fun, device, backend, name, donated_invars,\n\u001b[0;32m    <a href='file:///c%3A/Users/User/.conda/envs/fedjax-cpu/lib/site-packages/jax/_src/dispatch.py?line=128'>129</a>\u001b[0m                              \u001b[39m*\u001b[39munsafe_map(arg_spec, args))\n\u001b[0;32m    <a href='file:///c%3A/Users/User/.conda/envs/fedjax-cpu/lib/site-packages/jax/_src/dispatch.py?line=129'>130</a>\u001b[0m \u001b[39mtry\u001b[39;00m:\n\u001b[1;32m--> <a href='file:///c%3A/Users/User/.conda/envs/fedjax-cpu/lib/site-packages/jax/_src/dispatch.py?line=130'>131</a>\u001b[0m   out \u001b[39m=\u001b[39m compiled_fun(\u001b[39m*\u001b[39;49margs)\n\u001b[0;32m    <a href='file:///c%3A/Users/User/.conda/envs/fedjax-cpu/lib/site-packages/jax/_src/dispatch.py?line=131'>132</a>\u001b[0m \u001b[39mexcept\u001b[39;00m \u001b[39mFloatingPointError\u001b[39;00m:\n\u001b[0;32m    <a href='file:///c%3A/Users/User/.conda/envs/fedjax-cpu/lib/site-packages/jax/_src/dispatch.py?line=132'>133</a>\u001b[0m   \u001b[39massert\u001b[39;00m config\u001b[39m.\u001b[39mjax_debug_nans \u001b[39mor\u001b[39;00m config\u001b[39m.\u001b[39mjax_debug_infs  \u001b[39m# compiled_fun can only raise in this case\u001b[39;00m\n",
      "File \u001b[1;32m~\\.conda\\envs\\fedjax-cpu\\lib\\site-packages\\jax\\_src\\dispatch.py:436\u001b[0m, in \u001b[0;36m_execute_compiled\u001b[1;34m(name, compiled, output_buffer_counts, result_handlers, kept_var_idx, *args)\u001b[0m\n\u001b[0;32m    <a href='file:///c%3A/Users/User/.conda/envs/fedjax-cpu/lib/site-packages/jax/_src/dispatch.py?line=432'>433</a>\u001b[0m device, \u001b[39m=\u001b[39m compiled\u001b[39m.\u001b[39mlocal_devices()\n\u001b[0;32m    <a href='file:///c%3A/Users/User/.conda/envs/fedjax-cpu/lib/site-packages/jax/_src/dispatch.py?line=433'>434</a>\u001b[0m input_bufs \u001b[39m=\u001b[39m util\u001b[39m.\u001b[39mflatten(\n\u001b[0;32m    <a href='file:///c%3A/Users/User/.conda/envs/fedjax-cpu/lib/site-packages/jax/_src/dispatch.py?line=434'>435</a>\u001b[0m     device_put(x, device) \u001b[39mfor\u001b[39;00m i, x \u001b[39min\u001b[39;00m \u001b[39menumerate\u001b[39m(args) \u001b[39mif\u001b[39;00m i \u001b[39min\u001b[39;00m kept_var_idx)\n\u001b[1;32m--> <a href='file:///c%3A/Users/User/.conda/envs/fedjax-cpu/lib/site-packages/jax/_src/dispatch.py?line=435'>436</a>\u001b[0m out_bufs \u001b[39m=\u001b[39m compiled\u001b[39m.\u001b[39;49mexecute(input_bufs)\n\u001b[0;32m    <a href='file:///c%3A/Users/User/.conda/envs/fedjax-cpu/lib/site-packages/jax/_src/dispatch.py?line=436'>437</a>\u001b[0m check_special(name, out_bufs)\n\u001b[0;32m    <a href='file:///c%3A/Users/User/.conda/envs/fedjax-cpu/lib/site-packages/jax/_src/dispatch.py?line=437'>438</a>\u001b[0m \u001b[39mif\u001b[39;00m output_buffer_counts \u001b[39mis\u001b[39;00m \u001b[39mNone\u001b[39;00m:\n",
      "\u001b[1;31mKeyboardInterrupt\u001b[0m: "
     ]
    }
   ],
   "source": [
    "def main():\n",
    "    hyper = Hyper()\n",
    "    key = random.PRNGKey(hyper.seed)\n",
    "    # Generate the data\n",
    "    key, t_means,t_sigma,t_mixture_weights, clients_data =  generate_data(key, hyper)\n",
    "    yTy = outer_clients(clients_data,clients_data)\n",
    "    yTy = jnp.mean(yTy,axis=(0,1))\n",
    "    #Initialize the variables\n",
    "    key, means, sigma, mixture_weights, _ =  generate_data(key, hyper)\n",
    "    SS_1 , SS_2 = (1/hyper.L)*jnp.ones(shape=(hyper.L,)), (1/hyper.d)*jnp.zeros(shape=(hyper.L, hyper.d))\n",
    "    V1 , V2 =  jnp.ones(shape=(hyper.L,)), jnp.ones(shape=(hyper.L, hyper.d))\n",
    "    H1 , H2 =  jnp.ones(shape=(hyper.L,)), jnp.ones(shape=(hyper.L, hyper.d))\n",
    "    #Variables list\n",
    "    Vss1 = [1/hyper.n * jnp.zeros(shape=(hyper.L,)) for i in range(hyper.n)] #(L)\n",
    "    Vss2 = [1/hyper.n * jnp.zeros(shape=(hyper.L,hyper.d)) for i in range(hyper.n)] #(L,d)\n",
    "\n",
    "    for i in range(hyper.epochs):\n",
    "        key, *subkey = random.split(key,num=hyper.n+2)\n",
    "        subkey = (_ for _ in subkey)  \n",
    "        indicator = random.bernoulli(next(subkey),hyper.p,shape=(hyper.n,))\n",
    "        participate = jnp.nonzero(indicator)[0]\n",
    "        delta1, delta2 = [],[]\n",
    "        for client in list(participate):\n",
    "            batch_data = clients_data[client][random.permutation(next(subkey),20)[:hyper.b]]        \n",
    "            d1, d2 = client_run(batch_data, means, sigma, SS_1, SS_2, Vss1[client],Vss2[client])\n",
    "            delta1.append(d1)\n",
    "            delta2.append(d2)\n",
    "            #client updates\n",
    "            Vss1[client] = Vss1[client] + hyper.alpha*d1\n",
    "            Vss2[client] = Vss2[client] + hyper.alpha*d2      \n",
    "        #central updates:\n",
    "        d1 = (1/len(delta1))*sum(delta1)\n",
    "        d2 = (1/len(delta2))*sum(delta2)        \n",
    "        H1 = V1 + d1\n",
    "        H2 = V2 + d2\n",
    "        SS_1 = SS_1+hyper.gamma*H1\n",
    "        SS_2 = SS_2+hyper.gamma*H2\n",
    "        V1 = V1+hyper.alpha*d1\n",
    "        V2 = V2+hyper.alpha*d2\n",
    "\n",
    "        #calculate the new variables \n",
    "        mixture_weights = (1/jnp.sum(SS_1))*SS_1\n",
    "        means = jnp.expand_dims((1/SS_1),axis=1)*SS_2\n",
    "        sigma = yTy - jnp.sum(jnp.expand_dims(SS_1, axis=(1,2))*outer(means, means), axis=0)\n",
    "        sigma = get_psd(sigma)\n",
    "        sigma = 0.5*(sigma.T+sigma)\n",
    "        print(compute_likelyhood(clients_data,mixture_weights,means,sigma))\n",
    "\n",
    "main()"
   ]
  },
  {
   "cell_type": "code",
   "execution_count": 187,
   "metadata": {},
   "outputs": [],
   "source": [
    "mixture_weights = jnp.array([0.52507305,0.47492698])\n",
    "means  = jnp.array([[0.26824555, 0.59139985, 0.38074902] ,[0.3420444  ,0.5129838 ,0.323579 ]])\n",
    "sigma = [[ 0.07922603, -0.33615774, -0.06213453] ,[-0.33615774 , 2.123206   ,0.763678 ],[-0.06213453 ,0.763678   ,2.0263853 ]]\n",
    "sigma = jnp.array(sigma)\n",
    "key = random.PRNGKey(10)\n",
    "data = random.normal(key,shape=(20,3))\n",
    "\n",
    "def _get_ss2(prob_vec,data):\n",
    "    #probvec: (n), data: (n,d)\n",
    "    prob_vec = jnp.expand_dims(prob_vec, axis=1) # (n,1)\n",
    "    return jnp.mean(prob_vec*data ,axis=0) #(n,d) -> (d)\n",
    "get_ss2 = jax.vmap(_get_ss2, (0,None),0) #(L,d)\n",
    "prob = get_prob(data,means,sigma) #(n,L)\n"
   ]
  },
  {
   "cell_type": "code",
   "execution_count": 188,
   "metadata": {},
   "outputs": [
    {
     "name": "stdout",
     "output_type": "stream",
     "text": [
      "[[2.1549885e-20 4.5955199e-22]\n",
      " [7.9120917e-04 2.1809743e-04]\n",
      " [0.0000000e+00 0.0000000e+00]\n",
      " [5.5985961e-06 8.0959131e-07]\n",
      " [8.0906075e-06 4.5888020e-05]\n",
      " [1.3341231e-02 3.1152757e-02]\n",
      " [1.7404336e-01 1.7396888e-01]\n",
      " [4.8305420e-03 1.2926011e-02]\n",
      " [1.5241438e-01 1.5923110e-01]\n",
      " [6.0815236e-04 2.1850737e-03]\n",
      " [6.9629946e-10 5.9858958e-11]\n",
      " [8.7312621e-08 1.0458122e-08]\n",
      " [2.5043380e-33 1.8214096e-35]\n",
      " [1.1300329e-28 9.8329362e-27]\n",
      " [0.0000000e+00 0.0000000e+00]\n",
      " [7.6777539e-21 1.6249882e-22]\n",
      " [1.3452614e-31 1.4565859e-29]\n",
      " [2.9830981e-11 4.0415721e-10]\n",
      " [3.2318218e-03 9.5317699e-04]\n",
      " [6.0610386e-20 1.4087968e-21]]\n"
     ]
    }
   ],
   "source": [
    "# mixture_weights = jnp.array([0.52507305,0.47492698])\n",
    "# means  = jnp.array([[0.26824555, 0.59139985, 0.38074902] ,[0.3420444  ,0.5129838 ,0.323579 ]])\n",
    "# sigma = [[ 0.07922603, -0.33615774, -0.06213453] ,[-0.33615774 , 2.123206   ,0.763678 ],[-0.06213453 ,0.763678   ,2.0263853 ]]\n",
    "# sigma = jnp.array(sigma)\n",
    "# key = random.PRNGKey(10)\n",
    "# data = random.normal(key,shape=(20,3))\n",
    "\n",
    "# def _get_ss2(prob_vec,data):\n",
    "#     #probvec: (n), data: (n,d)\n",
    "#     prob_vec = jnp.expand_dims(prob_vec, axis=1) # (n,1)\n",
    "#     return jnp.mean(prob_vec*data ,axis=0) #(n,d) -> (d)\n",
    "# get_ss2 = jax.vmap(_get_ss2, (0,None),0) #(L,d)\n",
    "# prob = get_prob(data,means,sigma) #(n,L)\n",
    "# print(prob)\n",
    "# sum_prob = jnp.sum(prob, axis=1)  #(n)\n",
    "# sum_prob = jnp.expand_dims(sum_prob,1) #(n,1)"
   ]
  }
 ],
 "metadata": {
  "interpreter": {
   "hash": "f5381989b6c5ff09e06861f3fcfeff032963fb6cbbe7a2ac426efbaceba8c983"
  },
  "kernelspec": {
   "display_name": "Python 3.8.12 ('fedjax-cpu')",
   "language": "python",
   "name": "python3"
  },
  "language_info": {
   "codemirror_mode": {
    "name": "ipython",
    "version": 3
   },
   "file_extension": ".py",
   "mimetype": "text/x-python",
   "name": "python",
   "nbconvert_exporter": "python",
   "pygments_lexer": "ipython3",
   "version": "3.8.12"
  },
  "orig_nbformat": 4
 },
 "nbformat": 4,
 "nbformat_minor": 2
}
