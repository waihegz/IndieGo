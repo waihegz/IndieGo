{
 "cells": [
  {
   "cell_type": "code",
   "execution_count": 1,
   "metadata": {},
   "outputs": [],
   "source": [
    "import jax \n",
    "import jax.numpy as jnp\n",
    "from jax import random\n",
    "from typing import NamedTuple\n",
    "from tqdm import tqdm\n",
    "import matplotlib.pyplot as plt\n",
    "guassian_pdf = jax.scipy.stats.multivariate_normal.pdf \n",
    "from utils import outer_clients, generate_data,compute_likelyhood, get_prob, outer"
   ]
  },
  {
   "cell_type": "markdown",
   "metadata": {},
   "source": [
    "## Utils"
   ]
  },
  {
   "cell_type": "code",
   "execution_count": 16,
   "metadata": {},
   "outputs": [],
   "source": [
    "def theta_client_run(data,sigma, means):\n",
    "    def _weighted_means(data,weights):\n",
    "        return jnp.average(data,axis=0,weights=weights)\n",
    "    \n",
    "    weighted_means = jax.vmap(_weighted_means, (None,0),0)\n",
    "    prob =  get_prob(data, means, sigma) #(L,n)\n",
    "    norm_prob = jnp.expand_dims((1/jnp.sum(prob, axis=1)),axis=1)*prob \n",
    "    print(data.shape, norm_prob.shape)\n",
    "    mu = weighted_means(data,norm_prob.T)\n",
    "    #norm_prob -> (l,N)\n",
    "    mixture_weights  = jnp.sum(norm_prob,axis=1)\n",
    "    mixture_weights  = (1/jnp.sum(mixture_weights))*mixture_weights\n",
    "    sigma = jnp.mean(outer(data,data),axis=0)-jnp.average(\n",
    "        outer(mu,mu),axis=0,weights=mixture_weights)\n",
    "    return sigma, means, mixture_weights"
   ]
  },
  {
   "cell_type": "markdown",
   "metadata": {},
   "source": [
    "## Main"
   ]
  },
  {
   "cell_type": "code",
   "execution_count": 17,
   "metadata": {},
   "outputs": [],
   "source": [
    "class Hyper(NamedTuple):\n",
    "    #Hyperparameters with default settings..\n",
    "    p = 0.95 # partipation rate\n",
    "    L = 2 # length\n",
    "    b = 100 #batch size\n",
    "    N = 10_000 #total number of examples\n",
    "    n = 1000 # number of agents \n",
    "    d = 3 # dimension of the experiment \n",
    "    gamma = 10e-2 #hyper parameter\n",
    "    alpha = 10e-2 # the total things\n",
    "    epochs = 100\n",
    "    repeats = 1\n",
    "    seed = 42"
   ]
  },
  {
   "cell_type": "code",
   "execution_count": 18,
   "metadata": {},
   "outputs": [
    {
     "name": "stderr",
     "output_type": "stream",
     "text": [
      "  0%|          | 0/100 [00:00<?, ?it/s]"
     ]
    },
    {
     "name": "stdout",
     "output_type": "stream",
     "text": [
      "(20, 3) (20, 2)\n"
     ]
    },
    {
     "name": "stderr",
     "output_type": "stream",
     "text": [
      "\n"
     ]
    },
    {
     "ename": "ValueError",
     "evalue": "Length of weights not compatible with specified axis.",
     "output_type": "error",
     "traceback": [
      "\u001b[1;31m---------------------------------------------------------------------------\u001b[0m",
      "\u001b[1;31mValueError\u001b[0m                                Traceback (most recent call last)",
      "\u001b[1;32mc:\\Users\\User\\Desktop\\Summer 22\\FedSur\\Notebooks\\FedTheta.ipynb Cell 6'\u001b[0m in \u001b[0;36m<module>\u001b[1;34m\u001b[0m\n\u001b[0;32m     <a href='vscode-notebook-cell:/c%3A/Users/User/Desktop/Summer%2022/FedSur/Notebooks/FedTheta.ipynb#ch0000008?line=28'>29</a>\u001b[0m     \u001b[39mprint\u001b[39m(\u001b[39m\"\u001b[39m\u001b[39moptimality gap\u001b[39m\u001b[39m\"\u001b[39m)\n\u001b[0;32m     <a href='vscode-notebook-cell:/c%3A/Users/User/Desktop/Summer%2022/FedSur/Notebooks/FedTheta.ipynb#ch0000008?line=29'>30</a>\u001b[0m     \u001b[39mprint\u001b[39m(optimal_gap)\n\u001b[1;32m---> <a href='vscode-notebook-cell:/c%3A/Users/User/Desktop/Summer%2022/FedSur/Notebooks/FedTheta.ipynb#ch0000008?line=30'>31</a>\u001b[0m main()\n",
      "\u001b[1;32mc:\\Users\\User\\Desktop\\Summer 22\\FedSur\\Notebooks\\FedTheta.ipynb Cell 6'\u001b[0m in \u001b[0;36mmain\u001b[1;34m()\u001b[0m\n\u001b[0;32m     <a href='vscode-notebook-cell:/c%3A/Users/User/Desktop/Summer%2022/FedSur/Notebooks/FedTheta.ipynb#ch0000008?line=17'>18</a>\u001b[0m \u001b[39mfor\u001b[39;00m client \u001b[39min\u001b[39;00m \u001b[39mlist\u001b[39m(participate):\n\u001b[0;32m     <a href='vscode-notebook-cell:/c%3A/Users/User/Desktop/Summer%2022/FedSur/Notebooks/FedTheta.ipynb#ch0000008?line=18'>19</a>\u001b[0m     batch_data \u001b[39m=\u001b[39m clients_data[client][random\u001b[39m.\u001b[39mpermutation(\u001b[39mnext\u001b[39m(subkey),\u001b[39m20\u001b[39m)[:hyper\u001b[39m.\u001b[39mb]]        \n\u001b[1;32m---> <a href='vscode-notebook-cell:/c%3A/Users/User/Desktop/Summer%2022/FedSur/Notebooks/FedTheta.ipynb#ch0000008?line=19'>20</a>\u001b[0m     c_sigma,c_means, c_mixture \u001b[39m=\u001b[39m theta_client_run(batch_data, sigma, means)\n\u001b[0;32m     <a href='vscode-notebook-cell:/c%3A/Users/User/Desktop/Summer%2022/FedSur/Notebooks/FedTheta.ipynb#ch0000008?line=20'>21</a>\u001b[0m     clients_sigma\u001b[39m.\u001b[39mappend(c_sigma)\n\u001b[0;32m     <a href='vscode-notebook-cell:/c%3A/Users/User/Desktop/Summer%2022/FedSur/Notebooks/FedTheta.ipynb#ch0000008?line=21'>22</a>\u001b[0m     clients_means\u001b[39m.\u001b[39mappend(c_means)\n",
      "\u001b[1;32mc:\\Users\\User\\Desktop\\Summer 22\\FedSur\\Notebooks\\FedTheta.ipynb Cell 3'\u001b[0m in \u001b[0;36mtheta_client_run\u001b[1;34m(data, sigma, means)\u001b[0m\n\u001b[0;32m     <a href='vscode-notebook-cell:/c%3A/Users/User/Desktop/Summer%2022/FedSur/Notebooks/FedTheta.ipynb#ch0000004?line=9'>10</a>\u001b[0m mixture_weights  \u001b[39m=\u001b[39m jnp\u001b[39m.\u001b[39msum(norm_prob,axis\u001b[39m=\u001b[39m\u001b[39m1\u001b[39m)\n\u001b[0;32m     <a href='vscode-notebook-cell:/c%3A/Users/User/Desktop/Summer%2022/FedSur/Notebooks/FedTheta.ipynb#ch0000004?line=10'>11</a>\u001b[0m mixture_weights  \u001b[39m=\u001b[39m (\u001b[39m1\u001b[39m\u001b[39m/\u001b[39mjnp\u001b[39m.\u001b[39msum(mixture_weights))\u001b[39m*\u001b[39mmixture_weights\n\u001b[1;32m---> <a href='vscode-notebook-cell:/c%3A/Users/User/Desktop/Summer%2022/FedSur/Notebooks/FedTheta.ipynb#ch0000004?line=11'>12</a>\u001b[0m sigma \u001b[39m=\u001b[39m jnp\u001b[39m.\u001b[39mmean(outer(data,data),axis\u001b[39m=\u001b[39m\u001b[39m0\u001b[39m)\u001b[39m-\u001b[39mjnp\u001b[39m.\u001b[39;49maverage(\n\u001b[0;32m     <a href='vscode-notebook-cell:/c%3A/Users/User/Desktop/Summer%2022/FedSur/Notebooks/FedTheta.ipynb#ch0000004?line=12'>13</a>\u001b[0m     outer(mu,mu),axis\u001b[39m=\u001b[39;49m\u001b[39m0\u001b[39;49m,weights\u001b[39m=\u001b[39;49mmixture_weights)\n\u001b[0;32m     <a href='vscode-notebook-cell:/c%3A/Users/User/Desktop/Summer%2022/FedSur/Notebooks/FedTheta.ipynb#ch0000004?line=13'>14</a>\u001b[0m \u001b[39mreturn\u001b[39;00m sigma, means, mixture_weights\n",
      "File \u001b[1;32m~\\.conda\\envs\\fedjax-cpu\\lib\\site-packages\\jax\\_src\\numpy\\lax_numpy.py:2688\u001b[0m, in \u001b[0;36maverage\u001b[1;34m(a, axis, weights, returned)\u001b[0m\n\u001b[0;32m   <a href='file:///c%3A/Users/User/.conda/envs/fedjax-cpu/lib/site-packages/jax/_src/numpy/lax_numpy.py?line=2684'>2685</a>\u001b[0m \u001b[39m@_wraps\u001b[39m(np\u001b[39m.\u001b[39maverage)\n\u001b[0;32m   <a href='file:///c%3A/Users/User/.conda/envs/fedjax-cpu/lib/site-packages/jax/_src/numpy/lax_numpy.py?line=2685'>2686</a>\u001b[0m \u001b[39mdef\u001b[39;00m \u001b[39maverage\u001b[39m(a, axis: Optional[Union[\u001b[39mint\u001b[39m, Tuple[\u001b[39mint\u001b[39m, \u001b[39m.\u001b[39m\u001b[39m.\u001b[39m\u001b[39m.\u001b[39m]]] \u001b[39m=\u001b[39m \u001b[39mNone\u001b[39;00m, weights\u001b[39m=\u001b[39m\u001b[39mNone\u001b[39;00m,\n\u001b[0;32m   <a href='file:///c%3A/Users/User/.conda/envs/fedjax-cpu/lib/site-packages/jax/_src/numpy/lax_numpy.py?line=2686'>2687</a>\u001b[0m             returned\u001b[39m=\u001b[39m\u001b[39mFalse\u001b[39;00m):\n\u001b[1;32m-> <a href='file:///c%3A/Users/User/.conda/envs/fedjax-cpu/lib/site-packages/jax/_src/numpy/lax_numpy.py?line=2687'>2688</a>\u001b[0m   \u001b[39mreturn\u001b[39;00m _average(a, _ensure_optional_axes(axis), weights, returned)\n",
      "    \u001b[1;31m[... skipping hidden 15 frame]\u001b[0m\n",
      "File \u001b[1;32m~\\.conda\\envs\\fedjax-cpu\\lib\\site-packages\\jax\\_src\\numpy\\lax_numpy.py:2724\u001b[0m, in \u001b[0;36m_average\u001b[1;34m(a, axis, weights, returned)\u001b[0m\n\u001b[0;32m   <a href='file:///c%3A/Users/User/.conda/envs/fedjax-cpu/lib/site-packages/jax/_src/numpy/lax_numpy.py?line=2720'>2721</a>\u001b[0m   \u001b[39mraise\u001b[39;00m \u001b[39mValueError\u001b[39;00m(\u001b[39m\"\u001b[39m\u001b[39m1D weights expected when shapes of a and \u001b[39m\u001b[39m\"\u001b[39m\n\u001b[0;32m   <a href='file:///c%3A/Users/User/.conda/envs/fedjax-cpu/lib/site-packages/jax/_src/numpy/lax_numpy.py?line=2721'>2722</a>\u001b[0m                    \u001b[39m\"\u001b[39m\u001b[39mweights differ.\u001b[39m\u001b[39m\"\u001b[39m)\n\u001b[0;32m   <a href='file:///c%3A/Users/User/.conda/envs/fedjax-cpu/lib/site-packages/jax/_src/numpy/lax_numpy.py?line=2722'>2723</a>\u001b[0m \u001b[39mif\u001b[39;00m \u001b[39mnot\u001b[39;00m core\u001b[39m.\u001b[39msymbolic_equal_dim(weights_shape[\u001b[39m0\u001b[39m], a_shape[axis]):\n\u001b[1;32m-> <a href='file:///c%3A/Users/User/.conda/envs/fedjax-cpu/lib/site-packages/jax/_src/numpy/lax_numpy.py?line=2723'>2724</a>\u001b[0m   \u001b[39mraise\u001b[39;00m \u001b[39mValueError\u001b[39;00m(\u001b[39m\"\u001b[39m\u001b[39mLength of weights not \u001b[39m\u001b[39m\"\u001b[39m\n\u001b[0;32m   <a href='file:///c%3A/Users/User/.conda/envs/fedjax-cpu/lib/site-packages/jax/_src/numpy/lax_numpy.py?line=2724'>2725</a>\u001b[0m                    \u001b[39m\"\u001b[39m\u001b[39mcompatible with specified axis.\u001b[39m\u001b[39m\"\u001b[39m)\n\u001b[0;32m   <a href='file:///c%3A/Users/User/.conda/envs/fedjax-cpu/lib/site-packages/jax/_src/numpy/lax_numpy.py?line=2726'>2727</a>\u001b[0m weights \u001b[39m=\u001b[39m broadcast_to(weights, (a_ndim \u001b[39m-\u001b[39m \u001b[39m1\u001b[39m) \u001b[39m*\u001b[39m (\u001b[39m1\u001b[39m,) \u001b[39m+\u001b[39m weights_shape)\n\u001b[0;32m   <a href='file:///c%3A/Users/User/.conda/envs/fedjax-cpu/lib/site-packages/jax/_src/numpy/lax_numpy.py?line=2727'>2728</a>\u001b[0m weights \u001b[39m=\u001b[39m moveaxis(weights, \u001b[39m-\u001b[39m\u001b[39m1\u001b[39m, axis)\n",
      "\u001b[1;31mValueError\u001b[0m: Length of weights not compatible with specified axis."
     ]
    }
   ],
   "source": [
    "def main():\n",
    "    hyper = Hyper()\n",
    "    key = random.PRNGKey(hyper.seed)\n",
    "    # Generate the data\n",
    "    key, t_means,t_sigma,t_mixture_weights, clients_data =  generate_data(key, hyper)\n",
    "    yTy = outer_clients(clients_data,clients_data)\n",
    "    yTy = jnp.mean(yTy,axis=(0,1))\n",
    "    #Initialize the variables\n",
    "    key, means, sigma, mixture_weights, _ =  generate_data(key, hyper)\n",
    "    optimal_value = compute_likelyhood(clients_data,t_mixture_weights,t_means,t_sigma)\n",
    "    optimal_gap = []\n",
    "    for i in tqdm(range(hyper.epochs)):\n",
    "        key, *subkey = random.split(key,num=hyper.n+2)\n",
    "        subkey = (_ for _ in subkey)  \n",
    "        indicator = random.bernoulli(next(subkey),hyper.p,shape=(hyper.n,))\n",
    "        participate = jnp.nonzero(indicator)[0]\n",
    "        clients_sigma, clients_means, clients_mixture = [],[],[]\n",
    "        for client in list(participate):\n",
    "            batch_data = clients_data[client][random.permutation(next(subkey),20)[:hyper.b]]        \n",
    "            c_sigma,c_means, c_mixture = theta_client_run(batch_data, sigma, means)\n",
    "            clients_sigma.append(c_sigma)\n",
    "            clients_means.append(c_means)\n",
    "            clients_mixture.append(c_mixture)\n",
    "        #central updates:\n",
    "        means = (1/len(clients_means))*sum(clients_means)\n",
    "        mixture_weights = (1/len(clients_mixture))*sum(clients_mixture)\n",
    "        sigma = (1/len(clients_sigma))*sum(clients_sigma)\n",
    "        optimal_gap.append(jnp.abs(optimal_value -compute_likelyhood(clients_data,mixture_weights,means,sigma)))\n",
    "    print(\"optimality gap\")\n",
    "    print(optimal_gap)\n",
    "main()"
   ]
  },
  {
   "cell_type": "code",
   "execution_count": null,
   "metadata": {},
   "outputs": [],
   "source": []
  },
  {
   "cell_type": "code",
   "execution_count": null,
   "metadata": {},
   "outputs": [],
   "source": []
  }
 ],
 "metadata": {
  "interpreter": {
   "hash": "f5381989b6c5ff09e06861f3fcfeff032963fb6cbbe7a2ac426efbaceba8c983"
  },
  "kernelspec": {
   "display_name": "Python 3.8.12 ('fedjax-cpu')",
   "language": "python",
   "name": "python3"
  },
  "language_info": {
   "codemirror_mode": {
    "name": "ipython",
    "version": 3
   },
   "file_extension": ".py",
   "mimetype": "text/x-python",
   "name": "python",
   "nbconvert_exporter": "python",
   "pygments_lexer": "ipython3",
   "version": "3.8.12"
  },
  "orig_nbformat": 4
 },
 "nbformat": 4,
 "nbformat_minor": 2
}
