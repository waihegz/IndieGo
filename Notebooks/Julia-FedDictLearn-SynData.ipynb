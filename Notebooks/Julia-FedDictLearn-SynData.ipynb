{
 "cells": [
  {
   "cell_type": "markdown",
   "metadata": {},
   "source": [
    "**Goals**\n",
    "\n",
    "1. Get this thing organized and working in numpy \n",
    "1. If really really needed do it in JAX"
   ]
  },
  {
   "cell_type": "code",
   "execution_count": 1,
   "metadata": {
    "id": "TqF0-AWHP5dW"
   },
   "outputs": [],
   "source": [
    "import numpy as np\n",
    "import numpy.linalg as linalg\n",
    "from sklearn.linear_model import Lasso\n",
    "from copy import deepcopy, copy \n",
    "from typing import NamedTuple\n",
    "from sklearn.exceptions import ConvergenceWarning\n",
    "from sklearn.utils._testing import ignore_warnings"
   ]
  },
  {
   "cell_type": "markdown",
   "metadata": {},
   "source": [
    "## Utils"
   ]
  },
  {
   "cell_type": "code",
   "execution_count": 10,
   "metadata": {},
   "outputs": [],
   "source": [
    "def get_psd(sigma):\n",
    "    M, v = np.linalg.eig(sigma)\n",
    "    v_inv = np.linalg.inv(v) \n",
    "    E = np.diag(np.clip(M,0,np.inf))+0.0001\n",
    "    return (v@E@v_inv).astype(float)    \n",
    "\n",
    "def get_obj_fct(lasso, hyper):\n",
    "    #Something is wrong here...#TODO very wrong\n",
    "    @ignore_warnings(category=ConvergenceWarning)\n",
    "    def obj_fct_n(Theta, client_codeword):\n",
    "        #This needs fiving\n",
    "        obj_fct = 0.0\n",
    "        for nn in range(hyper.n):\n",
    "            for t in range(client_codeword[nn].shape[0]):\n",
    "                y = client_codeword[nn][t]\n",
    "                lasso.fit(Theta.T, y) # involves solving a LASSO problem\n",
    "                hj = lasso.coef_\n",
    "                obj_fct += 0.5*linalg.norm(y - hj@Theta )**2 + hyper.lmbd*linalg.norm( hj, 1)\n",
    "        return (obj_fct + 0.5*hyper.eta* linalg.norm( Theta )**2)\n",
    "    return obj_fct_n\n",
    "\n",
    "def quant(x, s):\n",
    "    #TODO\n",
    "    return x\n",
    "    # return (1/s) * np.sign(x) * linalg.norm(x) * np.floor(s* np.abs(x)/(linalg.norm(x))* \n",
    "    #                                                       np.random.uniform(size=x.shape))\n",
    "   \n",
    "    \n",
    "class Hyper(NamedTuple):\n",
    "    ## Problems dimensions\n",
    "    d = 15 # original dimension\n",
    "    m = 10 # codeword dimension\n",
    "    n = 20 # number of workers\n",
    "    T = 50 # Samples per worker\n",
    "    homo_switch = 0 #0 for heter data, 1 for homo\n",
    "    #Loss function parameters\n",
    "    eta = 0.1 #dict l2 penalty weight\n",
    "    lmbd = 0.05 #codeword l1 penalty weight\n",
    "    rep_times = 1 # no. of repetition to run the experiment\n",
    "    # parameters for the algorithms \n",
    "    BatchSize = 3 # batch size per client per run\n",
    "    Participate = 5 # no of active workers each run\n",
    "    alpha = 0.01 # step size\n",
    "    squant = 15 # quantization level\n",
    "    IterNum = 10_000 # no. of iterations per experiment\n",
    "    \n",
    "def generate_data(hyper:Hyper):\n",
    "    shared_dict = np.random.normal(size=(hyper.d,hyper.m))\n",
    "    client_codeword , client_data = [], [] \n",
    "    for nn in range(hyper.n): \n",
    "        client_data.append(np.random.normal(size=(hyper.T,hyper.d))* np.random.binomial(\n",
    "            1, 0.2,size=(hyper.T,hyper.d)))\n",
    "        client_codeword.append(client_data[nn]@shared_dict + 0.0001*np.random.normal(size=(hyper.T,hyper.m)))\n",
    "    if hyper.homo_switch == 0:\n",
    "        return shared_dict,client_codeword,client_data\n",
    "    else:\n",
    "        raise NotImplementedError\n",
    "    "
   ]
  },
  {
   "cell_type": "markdown",
   "metadata": {},
   "source": [
    "## Experiment"
   ]
  },
  {
   "cell_type": "code",
   "execution_count": 11,
   "metadata": {},
   "outputs": [],
   "source": [
    "hyper = Hyper()\n",
    "true_dict, client_codeword, client_data = generate_data(hyper)\n",
    "lasso = Lasso(alpha=hyper.lmbd)\n",
    "init_dict,_,_ = generate_data(hyper)\n",
    "## Take care of homogenous experiment\n",
    "if hyper.homo_switch == 1:\n",
    "    client_codeword = np.stack(client_codeword)\n",
    "    client_codeword = [client_codeword for i in range(hyper.n)]    \n",
    "lasso = Lasso(alpha=hyper.lmbd, fit_intercept=False)\n",
    "obj_fct_n = get_obj_fct(lasso, hyper)\n",
    "\n",
    "p = (hyper.Participate/hyper.n)\n",
    "obj_sto_all = []"
   ]
  },
  {
   "cell_type": "markdown",
   "metadata": {
    "id": "BTHzxQMTF5NH"
   },
   "source": [
    "## The Code"
   ]
  },
  {
   "cell_type": "code",
   "execution_count": 13,
   "metadata": {
    "id": "izGGCgSYYgdL"
   },
   "outputs": [
    {
     "name": "stdout",
     "output_type": "stream",
     "text": [
      "rep =  0  \n",
      "\n",
      "t  0  obj =  548.6716599563402\n",
      "t  50  obj =  5005.081203617387\n",
      "t  100  obj =  4804.797465901892\n",
      "t  150  obj =  4706.078982069541\n",
      "t  200  obj =  4639.49533560454\n",
      "t  250  obj =  4590.220034095256\n",
      "t  300  obj =  4547.093872687393\n",
      "t  350  obj =  4517.994190280377\n",
      "t  400  obj =  4479.862910436956\n",
      "t  450  obj =  4457.314116300466\n",
      "t  500  obj =  4435.111770821811\n",
      "t  550  obj =  4409.709638007107\n",
      "t  600  obj =  4391.158443994672\n",
      "t  650  obj =  4378.728611980151\n",
      "t  700  obj =  4365.452426345228\n",
      "t  750  obj =  4347.641757064082\n",
      "t  800  obj =  4335.227056873515\n",
      "t  850  obj =  4327.049755821042\n",
      "t  900  obj =  4317.1582885716125\n",
      "t  950  obj =  4306.719990488061\n",
      "t  1000  obj =  4296.280376202852\n",
      "t  1050  obj =  4288.528878056763\n",
      "t  1100  obj =  4282.211153368312\n",
      "t  1150  obj =  4272.1460725037105\n",
      "t  1200  obj =  4266.599284169972\n",
      "t  1250  obj =  4266.095236612214\n",
      "t  1300  obj =  4262.530511334075\n",
      "t  1350  obj =  4257.222047025555\n",
      "t  1400  obj =  4255.691035860642\n",
      "t  1450  obj =  4256.340712056741\n",
      "t  1500  obj =  4251.003092504629\n",
      "t  1550  obj =  4245.767881240426\n",
      "t  1600  obj =  4245.600190103469\n",
      "t  1650  obj =  4242.749354020435\n",
      "t  1700  obj =  4241.240720304539\n",
      "t  1750  obj =  4237.13414424026\n",
      "t  1800  obj =  4236.851327272172\n",
      "t  1850  obj =  4232.791415436723\n",
      "t  1900  obj =  4232.58284941599\n",
      "t  1950  obj =  4231.671564757831\n",
      "t  2000  obj =  4228.442624463127\n",
      "t  2050  obj =  4229.349908322788\n",
      "t  2100  obj =  4228.730614936752\n",
      "t  2150  obj =  4228.224192579029\n",
      "t  2200  obj =  4228.507443212724\n",
      "t  2250  obj =  4229.558910341621\n",
      "t  2300  obj =  4235.380023089488\n",
      "t  2350  obj =  4230.409683179654\n",
      "t  2400  obj =  4225.01780604308\n",
      "t  2450  obj =  4221.728354297823\n",
      "t  2500  obj =  4221.355485879796\n",
      "t  2550  obj =  4220.811551437398\n",
      "t  2600  obj =  4218.622279633478\n",
      "t  2650  obj =  4219.266388679593\n"
     ]
    },
    {
     "ename": "KeyboardInterrupt",
     "evalue": "",
     "output_type": "error",
     "traceback": [
      "\u001b[1;31m---------------------------------------------------------------------------\u001b[0m",
      "\u001b[1;31mKeyboardInterrupt\u001b[0m                         Traceback (most recent call last)",
      "\u001b[1;32mc:\\Users\\User\\Desktop\\Summer 22\\FedSur\\Notebooks\\FedDictLearn-SynData.ipynb Cell 8'\u001b[0m in \u001b[0;36m<module>\u001b[1;34m\u001b[0m\n\u001b[0;32m     <a href='vscode-notebook-cell:/c%3A/Users/User/Desktop/Summer%2022/FedSur/Notebooks/FedDictLearn-SynData.ipynb#ch0000007?line=34'>35</a>\u001b[0m SS2 \u001b[39m=\u001b[39m np\u001b[39m.\u001b[39mzeros((hyper\u001b[39m.\u001b[39mm,hyper\u001b[39m.\u001b[39md))\n\u001b[0;32m     <a href='vscode-notebook-cell:/c%3A/Users/User/Desktop/Summer%2022/FedSur/Notebooks/FedDictLearn-SynData.ipynb#ch0000007?line=35'>36</a>\u001b[0m \u001b[39mfor\u001b[39;00m b \u001b[39min\u001b[39;00m \u001b[39mrange\u001b[39m(hyper\u001b[39m.\u001b[39mBatchSize):\n\u001b[1;32m---> <a href='vscode-notebook-cell:/c%3A/Users/User/Desktop/Summer%2022/FedSur/Notebooks/FedDictLearn-SynData.ipynb#ch0000007?line=36'>37</a>\u001b[0m     hj \u001b[39m=\u001b[39m fit_client(Theta\u001b[39m.\u001b[39;49mT, yy[b])\n\u001b[0;32m     <a href='vscode-notebook-cell:/c%3A/Users/User/Desktop/Summer%2022/FedSur/Notebooks/FedDictLearn-SynData.ipynb#ch0000007?line=37'>38</a>\u001b[0m     SS1 \u001b[39m+\u001b[39m\u001b[39m=\u001b[39m np\u001b[39m.\u001b[39mouter(hj,hj)\n\u001b[0;32m     <a href='vscode-notebook-cell:/c%3A/Users/User/Desktop/Summer%2022/FedSur/Notebooks/FedDictLearn-SynData.ipynb#ch0000007?line=38'>39</a>\u001b[0m     SS2 \u001b[39m+\u001b[39m\u001b[39m=\u001b[39m np\u001b[39m.\u001b[39mouter(yy[b],hj)\n",
      "File \u001b[1;32m~\\.conda\\envs\\fedjax-cpu\\lib\\site-packages\\sklearn\\utils\\_testing.py:318\u001b[0m, in \u001b[0;36m_IgnoreWarnings.__call__.<locals>.wrapper\u001b[1;34m(*args, **kwargs)\u001b[0m\n\u001b[0;32m    <a href='file:///c%3A/Users/User/.conda/envs/fedjax-cpu/lib/site-packages/sklearn/utils/_testing.py?line=315'>316</a>\u001b[0m \u001b[39mwith\u001b[39;00m warnings\u001b[39m.\u001b[39mcatch_warnings():\n\u001b[0;32m    <a href='file:///c%3A/Users/User/.conda/envs/fedjax-cpu/lib/site-packages/sklearn/utils/_testing.py?line=316'>317</a>\u001b[0m     warnings\u001b[39m.\u001b[39msimplefilter(\u001b[39m\"\u001b[39m\u001b[39mignore\u001b[39m\u001b[39m\"\u001b[39m, \u001b[39mself\u001b[39m\u001b[39m.\u001b[39mcategory)\n\u001b[1;32m--> <a href='file:///c%3A/Users/User/.conda/envs/fedjax-cpu/lib/site-packages/sklearn/utils/_testing.py?line=317'>318</a>\u001b[0m     \u001b[39mreturn\u001b[39;00m fn(\u001b[39m*\u001b[39;49margs, \u001b[39m*\u001b[39;49m\u001b[39m*\u001b[39;49mkwargs)\n",
      "\u001b[1;32mc:\\Users\\User\\Desktop\\Summer 22\\FedSur\\Notebooks\\FedDictLearn-SynData.ipynb Cell 8'\u001b[0m in \u001b[0;36mfit_client\u001b[1;34m(x, y)\u001b[0m\n\u001b[0;32m      <a href='vscode-notebook-cell:/c%3A/Users/User/Desktop/Summer%2022/FedSur/Notebooks/FedDictLearn-SynData.ipynb#ch0000007?line=0'>1</a>\u001b[0m \u001b[39m@ignore_warnings\u001b[39m(category\u001b[39m=\u001b[39mConvergenceWarning)\n\u001b[0;32m      <a href='vscode-notebook-cell:/c%3A/Users/User/Desktop/Summer%2022/FedSur/Notebooks/FedDictLearn-SynData.ipynb#ch0000007?line=1'>2</a>\u001b[0m \u001b[39mdef\u001b[39;00m \u001b[39mfit_client\u001b[39m(x,y):\n\u001b[1;32m----> <a href='vscode-notebook-cell:/c%3A/Users/User/Desktop/Summer%2022/FedSur/Notebooks/FedDictLearn-SynData.ipynb#ch0000007?line=2'>3</a>\u001b[0m     fitted \u001b[39m=\u001b[39m lasso\u001b[39m.\u001b[39;49mfit(x,y)\n\u001b[0;32m      <a href='vscode-notebook-cell:/c%3A/Users/User/Desktop/Summer%2022/FedSur/Notebooks/FedDictLearn-SynData.ipynb#ch0000007?line=3'>4</a>\u001b[0m     \u001b[39mreturn\u001b[39;00m fitted\u001b[39m.\u001b[39mcoef_\n",
      "File \u001b[1;32m~\\.conda\\envs\\fedjax-cpu\\lib\\site-packages\\sklearn\\linear_model\\_coordinate_descent.py:1054\u001b[0m, in \u001b[0;36mElasticNet.fit\u001b[1;34m(self, X, y, sample_weight, check_input)\u001b[0m\n\u001b[0;32m   <a href='file:///c%3A/Users/User/.conda/envs/fedjax-cpu/lib/site-packages/sklearn/linear_model/_coordinate_descent.py?line=1051'>1052</a>\u001b[0m \u001b[39melse\u001b[39;00m:\n\u001b[0;32m   <a href='file:///c%3A/Users/User/.conda/envs/fedjax-cpu/lib/site-packages/sklearn/linear_model/_coordinate_descent.py?line=1052'>1053</a>\u001b[0m     this_Xy \u001b[39m=\u001b[39m \u001b[39mNone\u001b[39;00m\n\u001b[1;32m-> <a href='file:///c%3A/Users/User/.conda/envs/fedjax-cpu/lib/site-packages/sklearn/linear_model/_coordinate_descent.py?line=1053'>1054</a>\u001b[0m _, this_coef, this_dual_gap, this_iter \u001b[39m=\u001b[39m \u001b[39mself\u001b[39;49m\u001b[39m.\u001b[39;49mpath(\n\u001b[0;32m   <a href='file:///c%3A/Users/User/.conda/envs/fedjax-cpu/lib/site-packages/sklearn/linear_model/_coordinate_descent.py?line=1054'>1055</a>\u001b[0m     X,\n\u001b[0;32m   <a href='file:///c%3A/Users/User/.conda/envs/fedjax-cpu/lib/site-packages/sklearn/linear_model/_coordinate_descent.py?line=1055'>1056</a>\u001b[0m     y[:, k],\n\u001b[0;32m   <a href='file:///c%3A/Users/User/.conda/envs/fedjax-cpu/lib/site-packages/sklearn/linear_model/_coordinate_descent.py?line=1056'>1057</a>\u001b[0m     l1_ratio\u001b[39m=\u001b[39;49m\u001b[39mself\u001b[39;49m\u001b[39m.\u001b[39;49ml1_ratio,\n\u001b[0;32m   <a href='file:///c%3A/Users/User/.conda/envs/fedjax-cpu/lib/site-packages/sklearn/linear_model/_coordinate_descent.py?line=1057'>1058</a>\u001b[0m     eps\u001b[39m=\u001b[39;49m\u001b[39mNone\u001b[39;49;00m,\n\u001b[0;32m   <a href='file:///c%3A/Users/User/.conda/envs/fedjax-cpu/lib/site-packages/sklearn/linear_model/_coordinate_descent.py?line=1058'>1059</a>\u001b[0m     n_alphas\u001b[39m=\u001b[39;49m\u001b[39mNone\u001b[39;49;00m,\n\u001b[0;32m   <a href='file:///c%3A/Users/User/.conda/envs/fedjax-cpu/lib/site-packages/sklearn/linear_model/_coordinate_descent.py?line=1059'>1060</a>\u001b[0m     alphas\u001b[39m=\u001b[39;49m[alpha],\n\u001b[0;32m   <a href='file:///c%3A/Users/User/.conda/envs/fedjax-cpu/lib/site-packages/sklearn/linear_model/_coordinate_descent.py?line=1060'>1061</a>\u001b[0m     precompute\u001b[39m=\u001b[39;49mprecompute,\n\u001b[0;32m   <a href='file:///c%3A/Users/User/.conda/envs/fedjax-cpu/lib/site-packages/sklearn/linear_model/_coordinate_descent.py?line=1061'>1062</a>\u001b[0m     Xy\u001b[39m=\u001b[39;49mthis_Xy,\n\u001b[0;32m   <a href='file:///c%3A/Users/User/.conda/envs/fedjax-cpu/lib/site-packages/sklearn/linear_model/_coordinate_descent.py?line=1062'>1063</a>\u001b[0m     copy_X\u001b[39m=\u001b[39;49m\u001b[39mTrue\u001b[39;49;00m,\n\u001b[0;32m   <a href='file:///c%3A/Users/User/.conda/envs/fedjax-cpu/lib/site-packages/sklearn/linear_model/_coordinate_descent.py?line=1063'>1064</a>\u001b[0m     coef_init\u001b[39m=\u001b[39;49mcoef_[k],\n\u001b[0;32m   <a href='file:///c%3A/Users/User/.conda/envs/fedjax-cpu/lib/site-packages/sklearn/linear_model/_coordinate_descent.py?line=1064'>1065</a>\u001b[0m     verbose\u001b[39m=\u001b[39;49m\u001b[39mFalse\u001b[39;49;00m,\n\u001b[0;32m   <a href='file:///c%3A/Users/User/.conda/envs/fedjax-cpu/lib/site-packages/sklearn/linear_model/_coordinate_descent.py?line=1065'>1066</a>\u001b[0m     return_n_iter\u001b[39m=\u001b[39;49m\u001b[39mTrue\u001b[39;49;00m,\n\u001b[0;32m   <a href='file:///c%3A/Users/User/.conda/envs/fedjax-cpu/lib/site-packages/sklearn/linear_model/_coordinate_descent.py?line=1066'>1067</a>\u001b[0m     positive\u001b[39m=\u001b[39;49m\u001b[39mself\u001b[39;49m\u001b[39m.\u001b[39;49mpositive,\n\u001b[0;32m   <a href='file:///c%3A/Users/User/.conda/envs/fedjax-cpu/lib/site-packages/sklearn/linear_model/_coordinate_descent.py?line=1067'>1068</a>\u001b[0m     check_input\u001b[39m=\u001b[39;49m\u001b[39mFalse\u001b[39;49;00m,\n\u001b[0;32m   <a href='file:///c%3A/Users/User/.conda/envs/fedjax-cpu/lib/site-packages/sklearn/linear_model/_coordinate_descent.py?line=1068'>1069</a>\u001b[0m     \u001b[39m# from here on **params\u001b[39;49;00m\n\u001b[0;32m   <a href='file:///c%3A/Users/User/.conda/envs/fedjax-cpu/lib/site-packages/sklearn/linear_model/_coordinate_descent.py?line=1069'>1070</a>\u001b[0m     tol\u001b[39m=\u001b[39;49m\u001b[39mself\u001b[39;49m\u001b[39m.\u001b[39;49mtol,\n\u001b[0;32m   <a href='file:///c%3A/Users/User/.conda/envs/fedjax-cpu/lib/site-packages/sklearn/linear_model/_coordinate_descent.py?line=1070'>1071</a>\u001b[0m     X_offset\u001b[39m=\u001b[39;49mX_offset,\n\u001b[0;32m   <a href='file:///c%3A/Users/User/.conda/envs/fedjax-cpu/lib/site-packages/sklearn/linear_model/_coordinate_descent.py?line=1071'>1072</a>\u001b[0m     X_scale\u001b[39m=\u001b[39;49mX_scale,\n\u001b[0;32m   <a href='file:///c%3A/Users/User/.conda/envs/fedjax-cpu/lib/site-packages/sklearn/linear_model/_coordinate_descent.py?line=1072'>1073</a>\u001b[0m     max_iter\u001b[39m=\u001b[39;49m\u001b[39mself\u001b[39;49m\u001b[39m.\u001b[39;49mmax_iter,\n\u001b[0;32m   <a href='file:///c%3A/Users/User/.conda/envs/fedjax-cpu/lib/site-packages/sklearn/linear_model/_coordinate_descent.py?line=1073'>1074</a>\u001b[0m     random_state\u001b[39m=\u001b[39;49m\u001b[39mself\u001b[39;49m\u001b[39m.\u001b[39;49mrandom_state,\n\u001b[0;32m   <a href='file:///c%3A/Users/User/.conda/envs/fedjax-cpu/lib/site-packages/sklearn/linear_model/_coordinate_descent.py?line=1074'>1075</a>\u001b[0m     selection\u001b[39m=\u001b[39;49m\u001b[39mself\u001b[39;49m\u001b[39m.\u001b[39;49mselection,\n\u001b[0;32m   <a href='file:///c%3A/Users/User/.conda/envs/fedjax-cpu/lib/site-packages/sklearn/linear_model/_coordinate_descent.py?line=1075'>1076</a>\u001b[0m     sample_weight\u001b[39m=\u001b[39;49msample_weight,\n\u001b[0;32m   <a href='file:///c%3A/Users/User/.conda/envs/fedjax-cpu/lib/site-packages/sklearn/linear_model/_coordinate_descent.py?line=1076'>1077</a>\u001b[0m )\n\u001b[0;32m   <a href='file:///c%3A/Users/User/.conda/envs/fedjax-cpu/lib/site-packages/sklearn/linear_model/_coordinate_descent.py?line=1077'>1078</a>\u001b[0m coef_[k] \u001b[39m=\u001b[39m this_coef[:, \u001b[39m0\u001b[39m]\n\u001b[0;32m   <a href='file:///c%3A/Users/User/.conda/envs/fedjax-cpu/lib/site-packages/sklearn/linear_model/_coordinate_descent.py?line=1078'>1079</a>\u001b[0m dual_gaps_[k] \u001b[39m=\u001b[39m this_dual_gap[\u001b[39m0\u001b[39m]\n",
      "File \u001b[1;32m~\\.conda\\envs\\fedjax-cpu\\lib\\site-packages\\sklearn\\linear_model\\_coordinate_descent.py:648\u001b[0m, in \u001b[0;36menet_path\u001b[1;34m(X, y, l1_ratio, eps, n_alphas, alphas, precompute, Xy, copy_X, coef_init, verbose, return_n_iter, positive, check_input, **params)\u001b[0m\n\u001b[0;32m    <a href='file:///c%3A/Users/User/.conda/envs/fedjax-cpu/lib/site-packages/sklearn/linear_model/_coordinate_descent.py?line=633'>634</a>\u001b[0m     model \u001b[39m=\u001b[39m cd_fast\u001b[39m.\u001b[39menet_coordinate_descent_gram(\n\u001b[0;32m    <a href='file:///c%3A/Users/User/.conda/envs/fedjax-cpu/lib/site-packages/sklearn/linear_model/_coordinate_descent.py?line=634'>635</a>\u001b[0m         coef_,\n\u001b[0;32m    <a href='file:///c%3A/Users/User/.conda/envs/fedjax-cpu/lib/site-packages/sklearn/linear_model/_coordinate_descent.py?line=635'>636</a>\u001b[0m         l1_reg,\n\u001b[1;32m   (...)\u001b[0m\n\u001b[0;32m    <a href='file:///c%3A/Users/User/.conda/envs/fedjax-cpu/lib/site-packages/sklearn/linear_model/_coordinate_descent.py?line=644'>645</a>\u001b[0m         positive,\n\u001b[0;32m    <a href='file:///c%3A/Users/User/.conda/envs/fedjax-cpu/lib/site-packages/sklearn/linear_model/_coordinate_descent.py?line=645'>646</a>\u001b[0m     )\n\u001b[0;32m    <a href='file:///c%3A/Users/User/.conda/envs/fedjax-cpu/lib/site-packages/sklearn/linear_model/_coordinate_descent.py?line=646'>647</a>\u001b[0m \u001b[39melif\u001b[39;00m precompute \u001b[39mis\u001b[39;00m \u001b[39mFalse\u001b[39;00m:\n\u001b[1;32m--> <a href='file:///c%3A/Users/User/.conda/envs/fedjax-cpu/lib/site-packages/sklearn/linear_model/_coordinate_descent.py?line=647'>648</a>\u001b[0m     model \u001b[39m=\u001b[39m cd_fast\u001b[39m.\u001b[39;49menet_coordinate_descent(\n\u001b[0;32m    <a href='file:///c%3A/Users/User/.conda/envs/fedjax-cpu/lib/site-packages/sklearn/linear_model/_coordinate_descent.py?line=648'>649</a>\u001b[0m         coef_, l1_reg, l2_reg, X, y, max_iter, tol, rng, random, positive\n\u001b[0;32m    <a href='file:///c%3A/Users/User/.conda/envs/fedjax-cpu/lib/site-packages/sklearn/linear_model/_coordinate_descent.py?line=649'>650</a>\u001b[0m     )\n\u001b[0;32m    <a href='file:///c%3A/Users/User/.conda/envs/fedjax-cpu/lib/site-packages/sklearn/linear_model/_coordinate_descent.py?line=650'>651</a>\u001b[0m \u001b[39melse\u001b[39;00m:\n\u001b[0;32m    <a href='file:///c%3A/Users/User/.conda/envs/fedjax-cpu/lib/site-packages/sklearn/linear_model/_coordinate_descent.py?line=651'>652</a>\u001b[0m     \u001b[39mraise\u001b[39;00m \u001b[39mValueError\u001b[39;00m(\n\u001b[0;32m    <a href='file:///c%3A/Users/User/.conda/envs/fedjax-cpu/lib/site-packages/sklearn/linear_model/_coordinate_descent.py?line=652'>653</a>\u001b[0m         \u001b[39m\"\u001b[39m\u001b[39mPrecompute should be one of True, False, \u001b[39m\u001b[39m'\u001b[39m\u001b[39mauto\u001b[39m\u001b[39m'\u001b[39m\u001b[39m or array-like. Got \u001b[39m\u001b[39m%r\u001b[39;00m\u001b[39m\"\u001b[39m\n\u001b[0;32m    <a href='file:///c%3A/Users/User/.conda/envs/fedjax-cpu/lib/site-packages/sklearn/linear_model/_coordinate_descent.py?line=653'>654</a>\u001b[0m         \u001b[39m%\u001b[39m precompute\n\u001b[0;32m    <a href='file:///c%3A/Users/User/.conda/envs/fedjax-cpu/lib/site-packages/sklearn/linear_model/_coordinate_descent.py?line=654'>655</a>\u001b[0m     )\n",
      "\u001b[1;31mKeyboardInterrupt\u001b[0m: "
     ]
    }
   ],
   "source": [
    "@ignore_warnings(category=ConvergenceWarning)\n",
    "def fit_client(x,y):\n",
    "    fitted = lasso.fit(x,y)\n",
    "    return fitted.coef_\n",
    "\n",
    "for rep in range(hyper.rep_times):\n",
    "    Theta = deepcopy(init_dict)\n",
    "    V_SS1 = [np.zeros((hyper.d,hyper.d)) for _ in range(hyper.n)] \n",
    "    V_SS2 = [np.zeros((hyper.m,hyper.d)) for _ in range(hyper.n)] \n",
    "    Msg_SS1 = [np.zeros((hyper.d,hyper.d)) for _ in range(hyper.n)] \n",
    "    Msg_SS2 = [np.zeros((hyper.m,hyper.d)) for _ in range(hyper.n)] \n",
    "    Va_SS1, Ha_SS1, Sa_SS1 = (np.zeros((hyper.d,hyper.d)) for _ in range(3))\n",
    "    Va_SS2, Ha_SS2, Sa_SS2 = (np.zeros((hyper.m,hyper.d)) for _ in range(3))\n",
    "    \n",
    "    obj_sto = []\n",
    "    print(\"rep = \", rep, \" \\n\")\n",
    "    for t in range(hyper.IterNum):\n",
    "        if t%50 == 0:\n",
    "            obj_sto.append(obj_fct_n(Theta, client_codeword))\n",
    "            print( \"t \",t ,\" obj = \",  obj_sto[-1])\n",
    "        \n",
    "        idx_PP = np.random.permutation(hyper.n)[:hyper.Participate]\n",
    "        #for each client\n",
    "        for nn in idx_PP:\n",
    "            #batch data\n",
    "            if hyper.homo_switch == 0:\n",
    "                idx_batch = np.random.permutation(hyper.T)[:hyper.BatchSize]\n",
    "                yy = client_codeword[nn][idx_batch]\n",
    "            else:\n",
    "                idx_batch = np.random.permutation(hyper.n*hyper.T)[:hyper.BatchSize]\n",
    "                yy = client_codeword[nn][idx_batch] \n",
    "\n",
    "            #client message\n",
    "            SS1 = np.zeros((hyper.d,hyper.d))\n",
    "            SS2 = np.zeros((hyper.m,hyper.d))\n",
    "            for b in range(hyper.BatchSize):\n",
    "                hj = fit_client(Theta.T, yy[b])\n",
    "                SS1 += np.outer(hj,hj)\n",
    "                SS2 += np.outer(yy[b],hj)\n",
    "\n",
    "            ##Message conostruction\n",
    "            Delta1 = SS1/hyper.BatchSize - Sa_SS1 - V_SS1[nn]\n",
    "            Delta2 = SS2/hyper.BatchSize - Sa_SS2 - V_SS2[nn]\n",
    "            V_SS1[nn] = V_SS1[nn] + (hyper.alpha/p)*quant(Delta1, hyper.squant)\n",
    "            V_SS2[nn] = V_SS2[nn] + (hyper.alpha/p)*quant(Delta2, hyper.squant)\n",
    "            Msg_SS1[nn] = quant(Delta1, hyper.squant)\n",
    "            Msg_SS2[nn] = quant(Delta2, hyper.squant); \n",
    "        \n",
    "\n",
    "        #Server Update\n",
    "        step_size = 0.1 / np.sqrt(t+0.1)\n",
    "        D_SS1 = (1/(hyper.n*p))*sum([Msg_SS1[i] for i in idx_PP])\n",
    "        D_SS2 = (1/(hyper.n*p))*sum([Msg_SS2[i] for i in idx_PP])    \n",
    "        Ha_SS1 = Va_SS1 + D_SS1\n",
    "        Ha_SS2 = Va_SS2 + D_SS2\n",
    "        Sa_SS1 = Sa_SS1 + step_size*Ha_SS1\n",
    "        Sa_SS1 = get_psd(0.5*(Sa_SS1+Sa_SS1.T))\n",
    "        Sa_SS2 = Sa_SS2 + step_size*Ha_SS2\n",
    "        Va_SS1 = Va_SS1 + (hyper.alpha/(hyper.n*p))*sum([Msg_SS1[i] for i in idx_PP])\n",
    "        Va_SS2 = Va_SS2 + (hyper.alpha/(hyper.n*p))*sum([Msg_SS2[i] for i in idx_PP])\n",
    "        Theta = Sa_SS2 @ ( np.linalg.inv(Sa_SS1 + hyper.eta*np.eye(hyper.d)))\n",
    "        Theta = Theta.T  \n",
    "\n",
    "    obj_sto_all.append(obj_sto)"
   ]
  },
  {
   "cell_type": "code",
   "execution_count": null,
   "metadata": {},
   "outputs": [],
   "source": []
  }
 ],
 "metadata": {
  "colab": {
   "collapsed_sections": [],
   "name": "FedDictLearn-SynData.ipynb",
   "provenance": []
  },
  "kernelspec": {
   "display_name": "Python 3 (ipykernel)",
   "language": "python",
   "name": "python3"
  },
  "language_info": {
   "codemirror_mode": {
    "name": "ipython",
    "version": 3
   },
   "file_extension": ".py",
   "mimetype": "text/x-python",
   "name": "python",
   "nbconvert_exporter": "python",
   "pygments_lexer": "ipython3",
   "version": "3.8.12"
  }
 },
 "nbformat": 4,
 "nbformat_minor": 1
}
